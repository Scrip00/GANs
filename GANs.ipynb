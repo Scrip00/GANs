{
 "cells": [
  {
   "cell_type": "code",
   "execution_count": 1,
   "id": "46628632",
   "metadata": {},
   "outputs": [],
   "source": [
    "import time\n",
    "import math\n",
    "import random\n",
    "import numpy as np\n",
    "from scipy.stats import norm\n",
    "import pylab as plt\n",
    "import matplotlib.gridspec as gridspec\n",
    "import seaborn as sns\n",
    "import torch\n",
    "import torch.nn as nn\n",
    "import torch.nn.functional as F\n",
    "import torch.optim as optim\n",
    "from torch.autograd import Variable\n",
    "from torch.utils.data import Dataset, DataLoader\n",
    "from torchvision import datasets, transforms\n",
    "import os\n",
    "import glob\n",
    "from functools import partial\n",
    "from IPython.display import display, clear_output\n",
    "from ipywidgets import interact, interactive, fixed, interact_manual\n",
    "import ipywidgets as widgets\n",
    "from PIL import Image\n",
    "from tqdm import tqdm\n",
    "from torch.nn.modules.upsampling import Upsample"
   ]
  },
  {
   "cell_type": "code",
   "execution_count": 2,
   "id": "460fb779",
   "metadata": {},
   "outputs": [],
   "source": [
    "class DatasetLoader(object):\n",
    "\n",
    "    def __init__(self, path, batch_size, transform=None):\n",
    "        self.path = path\n",
    "        self.batch_size = batch_size\n",
    "        self.transform = transform\n",
    "        \n",
    "    def getDataloader(self):\n",
    "        data = datasets.ImageFolder(self.path, transform=self.transform)\n",
    "        return DataLoader(data, batch_size=self.batch_size)"
   ]
  },
  {
   "cell_type": "code",
   "execution_count": 3,
   "id": "83938f9f",
   "metadata": {},
   "outputs": [],
   "source": [
    "class MinibatchDiscrimination(nn.Module):\n",
    "    def __init__(self, group_size):\n",
    "        super().__init__()\n",
    "        self.group_size = group_size\n",
    "\n",
    "    def forward(self, x):\n",
    "        group_size = min(self.group_size, x.shape[0])     # Minibatch must be divisible by (or smaller than) group_size.\n",
    "        s = x.shape                                             # [NCHW]  Input shape.\n",
    "        y = x.view(self.group_size, -1, s[1], s[2], s[3]).clone().detach()   # [GMCHW] Split minibatch into M groups of size G.                              # [GMCHW] Cast to FP32.\n",
    "        y -= y.mean(axis=0, keepdims=True)           # [GMCHW] Subtract mean over group.\n",
    "        y = y.square().mean(axis=0)               # [MCHW]  Calc variance over group.\n",
    "        y = (y + 1e-8).sqrt()                                  # [MCHW]  Calc stddev over group.\n",
    "        y = y.mean(axis=[1,2,3], keepdims=True)     # [M111]  Take average over fmaps and pixels.                                 # [M111]  Cast back to original data type.\n",
    "        y = torch.tile(y, [self.group_size, 1, s[2], s[3]])        # [N1HW]  Replicate over group and pixels.\n",
    "        return torch.cat([x, y], axis=1)              \n",
    "\n",
    "class G(nn.Module):\n",
    "    \n",
    "    def __init__(self, num_features, input_size):\n",
    "        super(G, self).__init__()\n",
    "        self.G = torch.nn.Sequential()\n",
    "        f = math.log(input_size / 4, 2) + 1\n",
    "        c = 0\n",
    "        self.G.add_module(\"Input\", nn.ConvTranspose2d(num_features, int(2 ** min(f + 3, 9)), 4, 1, 0))\n",
    "        self.G.add_module(str(c), nn.Conv2d(int(2 ** min(f + 3, 9)), int(2 ** min(f + 3, 9)), 3, padding=1))\n",
    "        self.G.add_module(str(c + 1), nn.BatchNorm2d(int(2 ** min(f + 3, 9))))\n",
    "        self.G.add_module(str(c + 2), nn.ReLU())\n",
    "        c += 3\n",
    "        f = int(math.log(input_size / 4, 2) + 1)\n",
    "        while f != 1:\n",
    "            if f > 6:\n",
    "                self.G.add_module(str(c), nn.ConvTranspose2d(512, 512, 4, 2, 1))\n",
    "                self.G.add_module(str(c + 1), nn.ReLU())\n",
    "                self.G.add_module(str(c + 2), nn.Conv2d(512, 512, 3, padding=1))\n",
    "                self.G.add_module(str(c + 3), nn.BatchNorm2d(512))\n",
    "                self.G.add_module(str(c + 4), nn.ReLU())\n",
    "            elif f == 2:\n",
    "                self.G.add_module(str(c), nn.ConvTranspose2d(int(2 ** (f + 3)), int(2 ** (f + 2)), 4, 2, 1))\n",
    "                self.G.add_module(str(c + 1), nn.ReLU())\n",
    "                self.G.add_module(str(c + 2), nn.Conv2d(int(2 ** (f + 2)), int(2 ** (f + 2)), 3, padding=1))\n",
    "            else:\n",
    "                self.G.add_module(str(c), nn.ConvTranspose2d(int(2 ** (f + 3)), int(2 ** (f + 2)), 4, 2, 1))\n",
    "                self.G.add_module(str(c + 1), nn.ReLU())\n",
    "                self.G.add_module(str(c + 2), nn.Conv2d(int(2 ** (f + 2)), int(2 ** (f + 2)), 3, padding=1))\n",
    "                self.G.add_module(str(c + 3), nn.BatchNorm2d(int(2 ** (f + 2))))\n",
    "                self.G.add_module(str(c + 4), nn.ReLU())\n",
    "            f -= 1\n",
    "            c += 5\n",
    "        self.G.add_module(\"Layer\", nn.Conv2d(16, 3, 3, padding=1))\n",
    "        self.G.add_module(\"tanh\", nn.Tanh())\n",
    "        \n",
    "    def forward(self, input):\n",
    "        return self.G(input)\n",
    "    \n",
    "class D(nn.Module):\n",
    "    \n",
    "    def __init__(self, input_size):\n",
    "        super(D, self).__init__()\n",
    "        self.D = torch.nn.Sequential()\n",
    "        c = 0\n",
    "        self.D.add_module(\"Input\", nn.Conv2d(3, 16, 3, padding=1)) \n",
    "        self.D.add_module(str(c), nn.ReLU())\n",
    "        self.D.add_module(str(c + 1), nn.Conv2d(16, 32, 3, 2, 1)) \n",
    "        self.D.add_module(str(c + 2), nn.BatchNorm2d(32))\n",
    "        self.D.add_module(str(c + 3), nn.ReLU())\n",
    "        c += 4\n",
    "        d = 32\n",
    "        input_size /= 2\n",
    "        while int(input_size) != 4:\n",
    "            self.D.add_module(str(c), nn.Conv2d(d, d, 3, padding=1)) \n",
    "            self.D.add_module(str(c + 1), nn.ReLU())\n",
    "            self.D.add_module(str(c + 2), nn.Conv2d(d, min(d * 2, 512), 3, 2, 1))\n",
    "            self.D.add_module(str(c + 3), nn.BatchNorm2d(min(d * 2, 512)))\n",
    "            self.D.add_module(str(c + 4), nn.ReLU())\n",
    "            input_size /= 2\n",
    "            c += 5\n",
    "            d = min(512, d * 2)\n",
    "        self.D.add_module(\"Minibatch\", MinibatchDiscrimination(8))\n",
    "        self.D.add_module(\"Layer\", nn.Conv2d(d + 1, 1, 4, padding=0, stride=2))\n",
    "        self.D.add_module(\"Sigmoid\", nn.Sigmoid())\n",
    "        \n",
    "    def forward(self, input):\n",
    "        return self.D(input)\n",
    "    \n",
    "class DCGAN(nn.Module):\n",
    "    \n",
    "    def __init__(self, num_features, input_size):\n",
    "        super(DCGAN, self).__init__()\n",
    "        self.G = G(num_features, input_size)\n",
    "        self.D = D(input_size)\n",
    "        self.loss = nn.BCELoss()\n",
    "        self.num_features = num_features\n",
    "        self.input_size = input_size\n",
    "        \n",
    "    def forward(self, input):\n",
    "        return self.G(input)\n",
    "    \n",
    "    def weights_init(self, m):\n",
    "        classname = m.__class__.__name__\n",
    "        if classname.find('Conv') != -1:\n",
    "            nn.init.normal_(m.weight.data, 0.0, 0.02)\n",
    "        elif classname.find('BatchNorm') != -1:\n",
    "            nn.init.normal_(m.weight.data, 1.0, 0.02)\n",
    "            nn.init.constant_(m.bias.data, 0)\n",
    "    \n",
    "    def train(self, path_to_data, transform, g_lr, d_lr, num_epochs, batch_size, device='cpu'):\n",
    "        G_losses = []\n",
    "        D_losses = []\n",
    "        \n",
    "        self.G = self.G.apply(self.weights_init).to(device)\n",
    "        self.D = self.D.apply(self.weights_init).to(device)\n",
    "        real_label = 1.\n",
    "        fake_label = 0.\n",
    "        optimizerG = optim.Adam(self.G.parameters(), lr=g_lr, betas=(0.5, 0.999))\n",
    "        optimizerD = optim.Adam(self.D.parameters(), lr=d_lr, betas=(0.5, 0.999))\n",
    "        scalerG = torch.cuda.amp.GradScaler()\n",
    "        scalerD = torch.cuda.amp.GradScaler()\n",
    "        loader = DatasetLoader(path_to_data, batch_size, transform)\n",
    "        data = loader.getDataloader()\n",
    "        \n",
    "        for epoch in range(num_epochs):\n",
    "            for i, b in enumerate(tqdm(data, desc=f\"Epoch {epoch+1}/{num_epochs}\")): \n",
    "                b = b[0].to(device)\n",
    "                self.D.zero_grad()\n",
    "                label = torch.full((b.shape[0],), real_label, dtype=torch.float, device=device)\n",
    "                output = self.D(b).view(-1)\n",
    "                errD_real = self.loss(output, label)\n",
    "                scalerD.scale(errD_real).backward()\n",
    "                \n",
    "                noise = torch.randn(b.shape[0], self.num_features, 1, 1, device=device)\n",
    "                fake = self.G(noise)\n",
    "                label.fill_(fake_label)\n",
    "                output = self.D(fake.detach()).view(-1)\n",
    "                errD_fake = self.loss(output, label)\n",
    "                scalerD.scale(errD_fake).backward()\n",
    "                scalerD.step(optimizerD)\n",
    "                scalerD.update()\n",
    "\n",
    "                self.G.zero_grad()\n",
    "                label.fill_(real_label)\n",
    "                output = self.D(fake).view(-1)\n",
    "                errG = self.loss(output, label)\n",
    "                scalerG.scale(errG).backward()\n",
    "                scalerG.step(optimizerG)\n",
    "                scalerG.update()\n",
    "                \n",
    "                G_losses.append(errG.item())\n",
    "                D_losses.append(errD_real.item() + errD_fake.item())\n",
    "                \n",
    "                if i % 10 == 0 or i == len(data) - 1:\n",
    "                    print('ErrD: ' + str(errD_fake.item() + errD_real.item()) + ', ErrG: ' + str(errG.item()))\n",
    "#                     plot_image(self.forward(torch.randn(1, 256, 1, 1, device=device)))\n",
    "            \n",
    "        return G_losses, D_losses\n",
    "                \n",
    "    "
   ]
  },
  {
   "cell_type": "code",
   "execution_count": 4,
   "id": "f6efe8b9",
   "metadata": {},
   "outputs": [
    {
     "ename": "NameError",
     "evalue": "name 'gan' is not defined",
     "output_type": "error",
     "traceback": [
      "\u001b[1;31m---------------------------------------------------------------------------\u001b[0m",
      "\u001b[1;31mNameError\u001b[0m                                 Traceback (most recent call last)",
      "Cell \u001b[1;32mIn[4], line 3\u001b[0m\n\u001b[0;32m      1\u001b[0m \u001b[38;5;28;01mimport\u001b[39;00m \u001b[38;5;21;01mgc\u001b[39;00m\n\u001b[0;32m      2\u001b[0m gc\u001b[38;5;241m.\u001b[39mcollect()\n\u001b[1;32m----> 3\u001b[0m \u001b[43mgan\u001b[49m\u001b[38;5;241m.\u001b[39mcpu()\n\u001b[0;32m      4\u001b[0m \u001b[38;5;28;01mdel\u001b[39;00m gan\n\u001b[0;32m      5\u001b[0m torch\u001b[38;5;241m.\u001b[39mcuda\u001b[38;5;241m.\u001b[39mempty_cache()\n",
      "\u001b[1;31mNameError\u001b[0m: name 'gan' is not defined"
     ]
    }
   ],
   "source": [
    "import gc\n",
    "gc.collect()\n",
    "gan.cpu()\n",
    "del gan\n",
    "torch.cuda.empty_cache()"
   ]
  },
  {
   "cell_type": "code",
   "execution_count": null,
   "id": "70234064",
   "metadata": {},
   "outputs": [],
   "source": [
    "image_size = 256\n",
    "path = \"datasets/celeba_hq\"\n",
    "transform = transforms.Compose([\n",
    "                transforms.Resize(image_size),\n",
    "                transforms.CenterCrop(image_size),\n",
    "                transforms.ToTensor(),\n",
    "                transforms.Normalize((0.5, 0.5, 0.5), (0.5, 0.5, 0.5)),\n",
    "            ])\n",
    "g_lr = 0.001\n",
    "d_lr = 0.001\n",
    "num_epochs = 300\n",
    "batch_size = 64\n",
    "device = torch.device(\"cuda:0\" if torch.cuda.is_available() else \"cpu\")\n",
    "torch.autograd.set_detect_anomaly(True)\n",
    "gan = DCGAN(256, image_size)\n",
    "G_losses, D_losses = gan.train(path, transform, g_lr, d_lr, num_epochs, batch_size, device)"
   ]
  },
  {
   "cell_type": "code",
   "execution_count": null,
   "id": "24394fb6",
   "metadata": {},
   "outputs": [],
   "source": [
    "\n",
    "plt.figure(figsize=(10,5))\n",
    "plt.title(\"Generator and Discriminator Loss During Training\")\n",
    "plt.plot(G_losses,label=\"G\")\n",
    "plt.plot(D_losses,label=\"D\")\n",
    "plt.xlabel(\"iterations\")\n",
    "plt.ylabel(\"Loss\")\n",
    "plt.legend()\n",
    "plt.show()"
   ]
  },
  {
   "cell_type": "code",
   "execution_count": null,
   "id": "6cbebd5f",
   "metadata": {},
   "outputs": [],
   "source": [
    "\n",
    "import torchvision.utils as vutils\n",
    "def plot_image(image):\n",
    "    '''\n",
    "    Takes in an image and shows it using matplotlib \n",
    "    this is used to visualize the data and also the outputs of our network\n",
    "    '''\n",
    "    plt.figure()\n",
    "    plt.imshow(vutils.make_grid(image.cpu(), padding=2, normalize=True).permute(1, 2, 0))\n",
    "    plt.grid('off')\n",
    "    plt.axis('off')\n",
    "    plt.show()\n",
    "\n",
    "plot_image(gan(torch.randn(1, 256, 1, 1, device=device)))\n",
    "# plt.show()"
   ]
  },
  {
   "cell_type": "code",
   "execution_count": null,
   "id": "821ddd2b",
   "metadata": {},
   "outputs": [],
   "source": [
    "torch.squeeze(gan(torch.randn(1, 256, 1, 1, device=device))).cpu().detach().permute(1, 2, 0).numpy()"
   ]
  },
  {
   "cell_type": "code",
   "execution_count": 70,
   "id": "64dd2af3",
   "metadata": {},
   "outputs": [],
   "source": [
    "class G(nn.Module):\n",
    "    \n",
    "    def __init__(self, num_features, target_size):\n",
    "        super(G, self).__init__()\n",
    "        self.G = nn.ModuleList()\n",
    "        self.num_features = num_features\n",
    "        self.target_size = target_size\n",
    "        self.c = math.log(target_size / 4, 2) + 1\n",
    "        self.maxc = self.c\n",
    "        self.num_layers = 0\n",
    "        self.upsample = Upsample(scale_factor=2.0, mode='nearest')\n",
    "        \n",
    "    def add_module(self):\n",
    "        self.G = self.G[:-1]\n",
    "        if self.c == self.maxc:\n",
    "            self.G.append(nn.Conv2d(self.num_features, int(2 ** min(self.c + 2, 9)), 1))\n",
    "            self.G.append(nn.LeakyReLU(0.2))\n",
    "            self.G.append(nn.Conv2d(int(2 ** min(self.c + 2, 9)), int(2 ** min(self.c + 2, 9)), 4, stride=1, padding=3))\n",
    "            self.G.append(nn.LeakyReLU(0.2))\n",
    "            self.G.append(nn.Conv2d(int(2 ** min(self.c + 2, 9)), 3, 1))\n",
    "            self.num_layers += 5\n",
    "            self.c -= 1\n",
    "            return\n",
    "        elif self.c > 6:\n",
    "            self.G.append(nn.ConvTranspose2d(512, 512, 4, 2, 1))\n",
    "            self.G.append(nn.Conv2d(512, 512, 3, padding=1))\n",
    "            self.G.append(nn.LeakyReLU(0.2))\n",
    "            self.G.append(nn.Conv2d(512, 512, 3, padding=1))\n",
    "            self.G.append(nn.LeakyReLU(0.2))\n",
    "            self.G.append(nn.Conv2d(512, 3, 1))\n",
    "        else:\n",
    "            self.G.append(nn.ConvTranspose2d(int(2 ** (self.c + 3)), int(2 ** (self.c + 3)), 4, 2, 1))\n",
    "            self.G.append(nn.Conv2d(int(2 ** (self.c + 3)), int(2 ** (self.c + 2)), 3, padding=1))\n",
    "            self.G.append(nn.LeakyReLU(0.2))\n",
    "            self.G.append(nn.Conv2d(int(2 ** (self.c + 2)), int(2 ** (self.c + 2)), 3, padding=1))\n",
    "            self.G.append(nn.LeakyReLU(0.2))\n",
    "            self.G.append(nn.Conv2d(int(2 ** (self.c + 2)), 3, 1))\n",
    "        self.c -= 1\n",
    "        self.num_layers += 5\n",
    "        \n",
    "    def forward(self, input, blend, start=False):\n",
    "        if start:\n",
    "            for layer in self.G.children():\n",
    "                input = layer(input)\n",
    "            return input\n",
    "        for i, layer in enumerate(self.G.children()):\n",
    "            if i == self.num_layers - 7:\n",
    "                out = layer(input)\n",
    "                input = out\n",
    "            elif i == self.num_layers - 5:\n",
    "                break\n",
    "            else:\n",
    "                input = layer(input)\n",
    "        out = self.upsample(out) * (1.0 - blend) + blend * input\n",
    "        out = out.cuda()\n",
    "        for i, layer in enumerate(self.G[len(self.G)-5:].children()):\n",
    "            out = layer(out)\n",
    "        return out\n",
    "    \n",
    "class MinibatchDiscrimination(nn.Module):\n",
    "    \n",
    "    def __init__(self, group_size):\n",
    "        super().__init__()\n",
    "        self.group_size = group_size\n",
    "\n",
    "    def forward(self, x):\n",
    "        group_size = min(self.group_size, x.shape[0])\n",
    "        s = x.shape\n",
    "        y = x.view(self.group_size, -1, s[1], s[2], s[3]).clone().detach()\n",
    "        y -= y.mean(axis=0, keepdims=True)\n",
    "        y = y.square().mean(axis=0)\n",
    "        y = (y + 1e-8).sqrt()\n",
    "        y = y.mean(axis=[1,2,3], keepdims=True)\n",
    "        y = torch.tile(y, [self.group_size, 1, s[2], s[3]])\n",
    "        return torch.cat([x, y], axis=1)\n",
    "    \n",
    "class D(nn.Module):\n",
    "    \n",
    "    def __init__(self, target_size):\n",
    "        super(D, self).__init__()\n",
    "        self.D = nn.ModuleList()\n",
    "        self.d = 4\n",
    "        self.num_layers = 0\n",
    "        self.c = math.log(target_size / 4, 2) + 1\n",
    "        self.maxc = self.c\n",
    "        self.downsample = Upsample(scale_factor=0.5, mode='nearest')\n",
    "        \n",
    "    def add_module(self):\n",
    "        self.D = self.D[1:]\n",
    "        if self.c == self.maxc:\n",
    "            self.D.append(nn.Conv2d(3, int(2 ** min(self.c + 2, 9)), 1))\n",
    "            self.D.append(MinibatchDiscrimination(4))\n",
    "            self.D.append(nn.Conv2d(int(2 ** min(self.c + 2, 9)) + 1, int(2 ** min(self.c + 2, 9)), 3, padding=1))\n",
    "            self.D.append(nn.LeakyReLU(0.2))\n",
    "            self.D.append(nn.Conv2d(int(2 ** min(self.c + 2, 9)), int(2 ** min(self.c + 2, 9)), 4, padding=0, stride=2))\n",
    "            self.D.append(nn.LeakyReLU(0.2))\n",
    "            self.D.append(nn.Flatten())\n",
    "            self.D.append(nn.Linear(int(2 ** min(self.c + 2, 9)), 1))\n",
    "            self.num_layers += 8\n",
    "            self.c -= 1\n",
    "            return\n",
    "        elif self.c > 6:\n",
    "            self.D.insert(0, nn.Conv2d(3, 512, 1))\n",
    "            self.D.insert(1, nn.Conv2d(512, 512, 3, padding=1))\n",
    "            self.D.insert(2, nn.LeakyReLU(0.2))\n",
    "            self.D.insert(3, nn.Conv2d(512, 512, 3, padding=1))\n",
    "            self.D.insert(4, nn.LeakyReLU(0.2))\n",
    "            self.D.insert(5, nn.Conv2d(512, 512, 3, 2, 1))\n",
    "        else:\n",
    "            self.D.insert(0, nn.Conv2d(3, int(2 ** (self.c + 2)), 1))\n",
    "            self.D.insert(1, nn.Conv2d(int(2 ** (self.c + 2)), int(2 ** (self.c + 2)), 3, padding=1))\n",
    "            self.D.insert(2, nn.LeakyReLU(0.2))\n",
    "            self.D.insert(3, nn.Conv2d(int(2 ** (self.c + 2)), int(2 ** (self.c + 3)), 3, padding=1))\n",
    "            self.D.insert(4, nn.LeakyReLU(0.2))\n",
    "            self.D.insert(5, nn.Conv2d(int(2 ** (self.c + 3)), int(2 ** (self.c + 3)), 3, 2, 1))\n",
    "        self.c -= 1\n",
    "        self.num_layers += 5\n",
    "        \n",
    "    def forward(self, input, blend, start=False):\n",
    "        if start:\n",
    "            for layer in self.D.children():\n",
    "                input = layer(input)\n",
    "            return input\n",
    "        for i, layer in enumerate(self.D.children()):\n",
    "            if i == self.num_layers - 9:\n",
    "                out = layer(input)\n",
    "                input = out\n",
    "            elif i == self.num_layers - 7:\n",
    "                break\n",
    "            else:\n",
    "                input = layer(input)\n",
    "        out = self.downsample(out) * (1.0 - blend) + blend * input\n",
    "        out = out.cuda() # CHANGE LATER\n",
    "        for i, layer in enumerate(self.D[-7:].children()):\n",
    "            out = layer(out)\n",
    "        return out\n",
    "    \n",
    "class ProGAN(nn.Module):\n",
    "    \n",
    "    def __init__(self, num_features, input_size, device):\n",
    "        super(ProGAN, self).__init__()\n",
    "        self.device = device\n",
    "        self.G = G(num_features, input_size)\n",
    "        self.D = D(input_size)\n",
    "        self.loss = nn.BCELoss()\n",
    "        self.num_features = num_features\n",
    "        self.input_size = input_size\n",
    "        \n",
    "    def forward(self, input):\n",
    "        return self.G(input, 1.0)\n",
    "    \n",
    "    def train(self, path_to_data, transform, g_lr, d_lr, num_epochs, batch_size, target_res, device='cpu'):\n",
    "        \n",
    "        self.G = self.G.to(device)\n",
    "        self.D = self.D.to(device)\n",
    "        real_label = 1.\n",
    "        fake_label = 0.\n",
    "        loader = DatasetLoader(path_to_data, batch_size, transform)\n",
    "        data = loader.getDataloader()\n",
    "        res = 4\n",
    "        start = True\n",
    "        G_losses = []\n",
    "        D_losses = []\n",
    "        \n",
    "        while res <= target_res:\n",
    "            self.G.add_module()\n",
    "            self.D.add_module()\n",
    "            self.G = self.G.to(device)\n",
    "            self.D = self.D.to(device)\n",
    "            optimizerG = optim.Adam(self.G.G.parameters(), lr=g_lr)\n",
    "            optimizerD = optim.Adam(self.D.D.parameters(), lr=d_lr)\n",
    "            downsample = Upsample(scale_factor=res / target_res, mode='nearest')\n",
    "            if res > 4:\n",
    "                start = False\n",
    "            for epoch in range(num_epochs):\n",
    "                for i, b in enumerate(tqdm(data, desc=f\"Epoch {epoch+1}/{num_epochs}\")): \n",
    "                    scale = (i + epoch * len(data)) / (num_epochs * len(data))\n",
    "                    b = b[0].to(device)\n",
    "                    self.D.zero_grad()\n",
    "                    label = torch.full((batch_size,), real_label, dtype=torch.float, device=device)\n",
    "                    output = self.D(downsample(b), scale, start).view(-1)\n",
    "                    errD_real = -output.mean()\n",
    "                    \n",
    "                    noise = torch.randn(batch_size, self.num_features, 1, 1, device=device)\n",
    "                    fake = self.G(noise, scale, start)\n",
    "                    label.fill_(fake_label)\n",
    "                    output = self.D(fake.detach(), scale, start).view(-1)\n",
    "                    errD_fake = output.mean()\n",
    "                    \n",
    "                    errD = errD_fake + errD_real\n",
    "                    errD.backward()\n",
    "                    optimizerD.step()\n",
    "\n",
    "                    self.G.zero_grad()\n",
    "                    label.fill_(real_label)\n",
    "                    output = self.D(fake, scale, start).view(-1)\n",
    "                    errG = -output.mean()\n",
    "                    errG.backward()\n",
    "                    optimizerG.step()\n",
    "                    \n",
    "                    G_losses.append(errG.item())\n",
    "                    D_losses.append(errD.item())\n",
    "                \n",
    "                    if i % 10 == 0 or i == len(data) - 1:\n",
    "                        print('ErrD: ' + str(errD.item()) + ', ErrG: ' + str(errG.item()))\n",
    "            \n",
    "            for epoch in range(num_epochs):\n",
    "                for i, b in enumerate(tqdm(data, desc=f\"Epoch {epoch+1}/{num_epochs}\")): \n",
    "                    scale = 1\n",
    "                    b = b[0].to(device)\n",
    "                    self.D.zero_grad()\n",
    "                    label = torch.full((batch_size,), real_label, dtype=torch.float, device=device)\n",
    "                    output = self.D(downsample(b), scale, start).view(-1)\n",
    "                    errD_real = -output.mean()\n",
    "                    \n",
    "                    noise = torch.randn(batch_size, self.num_features, 1, 1, device=device)\n",
    "                    fake = self.G(noise, scale, start)\n",
    "                    label.fill_(fake_label)\n",
    "                    output = self.D(fake.detach(), scale, start).view(-1)\n",
    "                    errD_fake = output.mean()\n",
    "                    \n",
    "                    errD = errD_fake + errD_real\n",
    "                    errD.backward()\n",
    "                    optimizerD.step()\n",
    "\n",
    "                    self.G.zero_grad()\n",
    "                    label.fill_(real_label)\n",
    "                    output = self.D(fake, scale, start).view(-1)\n",
    "                    errG = -output.mean()\n",
    "                    errG.backward()\n",
    "                    optimizerG.step()\n",
    "                    \n",
    "                    G_losses.append(errG.item())\n",
    "                    D_losses.append(errD.item())\n",
    "                \n",
    "                    if i % 10 == 0 or i == len(data) - 1:\n",
    "                        print('ErrD: ' + str(errD.item()) + ', ErrG: ' + str(errG.item()))\n",
    "                    \n",
    "            res *= 2\n",
    "            \n",
    "        return G_losses, D_losses"
   ]
  },
  {
   "cell_type": "code",
   "execution_count": 71,
   "id": "3c1f0f0e",
   "metadata": {
    "scrolled": false
   },
   "outputs": [],
   "source": [
    "# g = G(256, 64).cpu()\n",
    "# g.add_module()\n",
    "# g.add_module()\n",
    "# g.add_module()\n",
    "# d = D(64)\n",
    "# d.add_module()\n",
    "# d.add_module()\n",
    "# print(d)\n",
    "# print(d(torch.randn(64, 3, 8, 8, device='cpu').cpu(), 1.0))\n",
    "# torch.squeeze(g(torch.randn(1, 256, 1, 1, device='cpu').cpu(), 1.0)).cpu().detach().permute(1, 2, 0).numpy()"
   ]
  },
  {
   "cell_type": "code",
   "execution_count": 74,
   "id": "6dcf5448",
   "metadata": {},
   "outputs": [],
   "source": [
    "import gc\n",
    "gc.collect()\n",
    "gan.cpu()\n",
    "del gan\n",
    "torch.cuda.empty_cache()"
   ]
  },
  {
   "cell_type": "code",
   "execution_count": 75,
   "id": "95c1f388",
   "metadata": {},
   "outputs": [
    {
     "name": "stderr",
     "output_type": "stream",
     "text": [
      "Epoch 1/1:   0%|▏                                                                      | 1/469 [00:00<04:29,  1.73it/s]"
     ]
    },
    {
     "name": "stdout",
     "output_type": "stream",
     "text": [
      "ErrD: 0.006795093417167664, ErrG: -0.0188022218644619\n"
     ]
    },
    {
     "name": "stderr",
     "output_type": "stream",
     "text": [
      "Epoch 1/1:   2%|█▋                                                                    | 11/469 [00:06<04:06,  1.86it/s]"
     ]
    },
    {
     "name": "stdout",
     "output_type": "stream",
     "text": [
      "ErrD: -2.1427183151245117, ErrG: 0.2661694586277008\n"
     ]
    },
    {
     "name": "stderr",
     "output_type": "stream",
     "text": [
      "Epoch 1/1:   4%|███▏                                                                  | 21/469 [00:11<03:56,  1.89it/s]"
     ]
    },
    {
     "name": "stdout",
     "output_type": "stream",
     "text": [
      "ErrD: -1.4147025346755981, ErrG: 0.460522323846817\n"
     ]
    },
    {
     "name": "stderr",
     "output_type": "stream",
     "text": [
      "Epoch 1/1:   7%|████▋                                                                 | 31/469 [00:16<03:50,  1.90it/s]"
     ]
    },
    {
     "name": "stdout",
     "output_type": "stream",
     "text": [
      "ErrD: -6.8364949226379395, ErrG: 12.051155090332031\n"
     ]
    },
    {
     "name": "stderr",
     "output_type": "stream",
     "text": [
      "Epoch 1/1:   9%|██████                                                                | 41/469 [00:21<03:43,  1.91it/s]"
     ]
    },
    {
     "name": "stdout",
     "output_type": "stream",
     "text": [
      "ErrD: -6.463939666748047, ErrG: 23.530364990234375\n"
     ]
    },
    {
     "name": "stderr",
     "output_type": "stream",
     "text": [
      "Epoch 1/1:  11%|███████▌                                                              | 51/469 [00:27<03:38,  1.91it/s]"
     ]
    },
    {
     "name": "stdout",
     "output_type": "stream",
     "text": [
      "ErrD: -21.623294830322266, ErrG: 32.40940475463867\n"
     ]
    },
    {
     "name": "stderr",
     "output_type": "stream",
     "text": [
      "Epoch 1/1:  13%|█████████                                                             | 61/469 [00:32<03:34,  1.90it/s]"
     ]
    },
    {
     "name": "stdout",
     "output_type": "stream",
     "text": [
      "ErrD: -64.54814147949219, ErrG: 56.64178466796875\n"
     ]
    },
    {
     "name": "stderr",
     "output_type": "stream",
     "text": [
      "Epoch 1/1:  15%|██████████▌                                                           | 71/469 [00:37<03:29,  1.90it/s]"
     ]
    },
    {
     "name": "stdout",
     "output_type": "stream",
     "text": [
      "ErrD: -150.84974670410156, ErrG: 119.26136016845703\n"
     ]
    },
    {
     "name": "stderr",
     "output_type": "stream",
     "text": [
      "Epoch 1/1:  17%|████████████                                                          | 81/469 [00:42<03:23,  1.90it/s]"
     ]
    },
    {
     "name": "stdout",
     "output_type": "stream",
     "text": [
      "ErrD: -266.76507568359375, ErrG: 160.46624755859375\n"
     ]
    },
    {
     "name": "stderr",
     "output_type": "stream",
     "text": [
      "Epoch 1/1:  19%|█████████████▌                                                        | 91/469 [00:48<03:19,  1.90it/s]"
     ]
    },
    {
     "name": "stdout",
     "output_type": "stream",
     "text": [
      "ErrD: -284.57489013671875, ErrG: 279.0626220703125\n"
     ]
    },
    {
     "name": "stderr",
     "output_type": "stream",
     "text": [
      "Epoch 1/1:  22%|██████████████▊                                                      | 101/469 [00:53<03:12,  1.91it/s]"
     ]
    },
    {
     "name": "stdout",
     "output_type": "stream",
     "text": [
      "ErrD: 196.48748779296875, ErrG: 134.31118774414062\n"
     ]
    },
    {
     "name": "stderr",
     "output_type": "stream",
     "text": [
      "Epoch 1/1:  24%|████████████████▎                                                    | 111/469 [00:58<03:06,  1.92it/s]"
     ]
    },
    {
     "name": "stdout",
     "output_type": "stream",
     "text": [
      "ErrD: 780.1768188476562, ErrG: 82.43946075439453\n"
     ]
    },
    {
     "name": "stderr",
     "output_type": "stream",
     "text": [
      "Epoch 1/1:  26%|█████████████████▊                                                   | 121/469 [01:03<03:01,  1.92it/s]"
     ]
    },
    {
     "name": "stdout",
     "output_type": "stream",
     "text": [
      "ErrD: 295.00982666015625, ErrG: 751.15625\n"
     ]
    },
    {
     "name": "stderr",
     "output_type": "stream",
     "text": [
      "Epoch 1/1:  28%|███████████████████▎                                                 | 131/469 [01:08<02:57,  1.91it/s]"
     ]
    },
    {
     "name": "stdout",
     "output_type": "stream",
     "text": [
      "ErrD: -1032.646728515625, ErrG: 2254.0947265625\n"
     ]
    },
    {
     "name": "stderr",
     "output_type": "stream",
     "text": [
      "Epoch 1/1:  30%|████████████████████▋                                                | 141/469 [01:14<02:50,  1.92it/s]"
     ]
    },
    {
     "name": "stdout",
     "output_type": "stream",
     "text": [
      "ErrD: -1692.9656982421875, ErrG: 2916.3896484375\n"
     ]
    },
    {
     "name": "stderr",
     "output_type": "stream",
     "text": [
      "Epoch 1/1:  32%|██████████████████████▏                                              | 151/469 [01:19<02:46,  1.91it/s]"
     ]
    },
    {
     "name": "stdout",
     "output_type": "stream",
     "text": [
      "ErrD: -1562.740478515625, ErrG: 2784.79931640625\n"
     ]
    },
    {
     "name": "stderr",
     "output_type": "stream",
     "text": [
      "Epoch 1/1:  34%|███████████████████████▋                                             | 161/469 [01:24<02:40,  1.91it/s]"
     ]
    },
    {
     "name": "stdout",
     "output_type": "stream",
     "text": [
      "ErrD: -1336.708984375, ErrG: 2070.843017578125\n"
     ]
    },
    {
     "name": "stderr",
     "output_type": "stream",
     "text": [
      "Epoch 1/1:  36%|█████████████████████████▏                                           | 171/469 [01:29<02:40,  1.86it/s]"
     ]
    },
    {
     "name": "stdout",
     "output_type": "stream",
     "text": [
      "ErrD: -804.9790649414062, ErrG: 1052.9364013671875\n"
     ]
    },
    {
     "name": "stderr",
     "output_type": "stream",
     "text": [
      "Epoch 1/1:  39%|██████████████████████████▋                                          | 181/469 [01:35<02:36,  1.84it/s]"
     ]
    },
    {
     "name": "stdout",
     "output_type": "stream",
     "text": [
      "ErrD: -551.8958129882812, ErrG: 794.533935546875\n"
     ]
    },
    {
     "name": "stderr",
     "output_type": "stream",
     "text": [
      "Epoch 1/1:  41%|████████████████████████████                                         | 191/469 [01:40<02:30,  1.85it/s]"
     ]
    },
    {
     "name": "stdout",
     "output_type": "stream",
     "text": [
      "ErrD: 13.610260009765625, ErrG: 600.591064453125\n"
     ]
    },
    {
     "name": "stderr",
     "output_type": "stream",
     "text": [
      "Epoch 1/1:  43%|█████████████████████████████▌                                       | 201/469 [01:46<02:26,  1.83it/s]"
     ]
    },
    {
     "name": "stdout",
     "output_type": "stream",
     "text": [
      "ErrD: 868.0250244140625, ErrG: -74.76007843017578\n"
     ]
    },
    {
     "name": "stderr",
     "output_type": "stream",
     "text": [
      "Epoch 1/1:  45%|███████████████████████████████                                      | 211/469 [01:51<02:20,  1.84it/s]"
     ]
    },
    {
     "name": "stdout",
     "output_type": "stream",
     "text": [
      "ErrD: 888.4566040039062, ErrG: -528.6783447265625\n"
     ]
    },
    {
     "name": "stderr",
     "output_type": "stream",
     "text": [
      "Epoch 1/1:  47%|████████████████████████████████▌                                    | 221/469 [01:57<02:19,  1.78it/s]"
     ]
    },
    {
     "name": "stdout",
     "output_type": "stream",
     "text": [
      "ErrD: 516.8406372070312, ErrG: -637.3717041015625\n"
     ]
    },
    {
     "name": "stderr",
     "output_type": "stream",
     "text": [
      "Epoch 1/1:  49%|█████████████████████████████████▉                                   | 231/469 [02:03<02:11,  1.81it/s]"
     ]
    },
    {
     "name": "stdout",
     "output_type": "stream",
     "text": [
      "ErrD: 387.72381591796875, ErrG: -618.848876953125\n"
     ]
    },
    {
     "name": "stderr",
     "output_type": "stream",
     "text": [
      "Epoch 1/1:  51%|███████████████████████████████████▍                                 | 241/469 [02:08<02:04,  1.83it/s]"
     ]
    },
    {
     "name": "stdout",
     "output_type": "stream",
     "text": [
      "ErrD: 73.11431884765625, ErrG: -484.40740966796875\n"
     ]
    },
    {
     "name": "stderr",
     "output_type": "stream",
     "text": [
      "Epoch 1/1:  54%|████████████████████████████████████▉                                | 251/469 [02:14<02:00,  1.82it/s]"
     ]
    },
    {
     "name": "stdout",
     "output_type": "stream",
     "text": [
      "ErrD: -288.8178405761719, ErrG: -318.691162109375\n"
     ]
    },
    {
     "name": "stderr",
     "output_type": "stream",
     "text": [
      "Epoch 1/1:  56%|██████████████████████████████████████▍                              | 261/469 [02:19<01:53,  1.84it/s]"
     ]
    },
    {
     "name": "stdout",
     "output_type": "stream",
     "text": [
      "ErrD: -845.4376831054688, ErrG: -141.28369140625\n"
     ]
    },
    {
     "name": "stderr",
     "output_type": "stream",
     "text": [
      "Epoch 1/1:  58%|███████████████████████████████████████▊                             | 271/469 [02:24<01:46,  1.86it/s]"
     ]
    },
    {
     "name": "stdout",
     "output_type": "stream",
     "text": [
      "ErrD: -1269.8934326171875, ErrG: -134.21072387695312\n"
     ]
    },
    {
     "name": "stderr",
     "output_type": "stream",
     "text": [
      "Epoch 1/1:  60%|█████████████████████████████████████████▎                           | 281/469 [02:30<01:41,  1.85it/s]"
     ]
    },
    {
     "name": "stdout",
     "output_type": "stream",
     "text": [
      "ErrD: -867.3069458007812, ErrG: -404.6556091308594\n"
     ]
    },
    {
     "name": "stderr",
     "output_type": "stream",
     "text": [
      "Epoch 1/1:  62%|██████████████████████████████████████████▊                          | 291/469 [02:35<01:35,  1.86it/s]"
     ]
    },
    {
     "name": "stdout",
     "output_type": "stream",
     "text": [
      "ErrD: 178.42333984375, ErrG: -1229.626708984375\n"
     ]
    },
    {
     "name": "stderr",
     "output_type": "stream",
     "text": [
      "Epoch 1/1:  64%|████████████████████████████████████████████▎                        | 301/469 [02:41<01:29,  1.88it/s]"
     ]
    },
    {
     "name": "stdout",
     "output_type": "stream",
     "text": [
      "ErrD: 1469.66015625, ErrG: -1964.3651123046875\n"
     ]
    },
    {
     "name": "stderr",
     "output_type": "stream",
     "text": [
      "Epoch 1/1:  66%|█████████████████████████████████████████████▊                       | 311/469 [02:46<01:25,  1.85it/s]"
     ]
    },
    {
     "name": "stdout",
     "output_type": "stream",
     "text": [
      "ErrD: 1521.2127685546875, ErrG: -2007.77001953125\n"
     ]
    },
    {
     "name": "stderr",
     "output_type": "stream",
     "text": [
      "Epoch 1/1:  68%|███████████████████████████████████████████████▏                     | 321/469 [02:51<01:21,  1.82it/s]"
     ]
    },
    {
     "name": "stdout",
     "output_type": "stream",
     "text": [
      "ErrD: 941.52197265625, ErrG: -1407.9140625\n"
     ]
    },
    {
     "name": "stderr",
     "output_type": "stream",
     "text": [
      "Epoch 1/1:  71%|████████████████████████████████████████████████▋                    | 331/469 [02:57<01:15,  1.84it/s]"
     ]
    },
    {
     "name": "stdout",
     "output_type": "stream",
     "text": [
      "ErrD: 3.65960693359375, ErrG: -463.8311462402344\n"
     ]
    },
    {
     "name": "stderr",
     "output_type": "stream",
     "text": [
      "Epoch 1/1:  73%|██████████████████████████████████████████████████▏                  | 341/469 [03:02<01:08,  1.88it/s]"
     ]
    },
    {
     "name": "stdout",
     "output_type": "stream",
     "text": [
      "ErrD: -1778.543701171875, ErrG: 1893.002685546875\n"
     ]
    },
    {
     "name": "stderr",
     "output_type": "stream",
     "text": [
      "Epoch 1/1:  75%|███████████████████████████████████████████████████▋                 | 351/469 [03:08<01:03,  1.86it/s]"
     ]
    },
    {
     "name": "stdout",
     "output_type": "stream",
     "text": [
      "ErrD: -3734.63134765625, ErrG: 4730.42822265625\n"
     ]
    },
    {
     "name": "stderr",
     "output_type": "stream",
     "text": [
      "Epoch 1/1:  77%|█████████████████████████████████████████████████████                | 361/469 [03:13<00:58,  1.85it/s]"
     ]
    },
    {
     "name": "stdout",
     "output_type": "stream",
     "text": [
      "ErrD: -3357.417724609375, ErrG: 5586.3916015625\n"
     ]
    },
    {
     "name": "stderr",
     "output_type": "stream",
     "text": [
      "Epoch 1/1:  79%|██████████████████████████████████████████████████████▌              | 371/469 [03:18<00:52,  1.87it/s]"
     ]
    },
    {
     "name": "stdout",
     "output_type": "stream",
     "text": [
      "ErrD: -1121.1142578125, ErrG: 3627.62158203125\n"
     ]
    },
    {
     "name": "stderr",
     "output_type": "stream",
     "text": [
      "Epoch 1/1:  81%|████████████████████████████████████████████████████████             | 381/469 [03:24<00:46,  1.89it/s]"
     ]
    },
    {
     "name": "stdout",
     "output_type": "stream",
     "text": [
      "ErrD: 1512.9478759765625, ErrG: -263.3836364746094\n"
     ]
    },
    {
     "name": "stderr",
     "output_type": "stream",
     "text": [
      "Epoch 1/1:  83%|█████████████████████████████████████████████████████████▌           | 391/469 [03:29<00:42,  1.84it/s]"
     ]
    },
    {
     "name": "stdout",
     "output_type": "stream",
     "text": [
      "ErrD: 289.581787109375, ErrG: -616.7861328125\n"
     ]
    },
    {
     "name": "stderr",
     "output_type": "stream",
     "text": [
      "Epoch 1/1:  86%|██████████████████████████████████████████████████████████▉          | 401/469 [03:35<00:36,  1.85it/s]"
     ]
    },
    {
     "name": "stdout",
     "output_type": "stream",
     "text": [
      "ErrD: -419.2176513671875, ErrG: -555.2381591796875\n"
     ]
    },
    {
     "name": "stderr",
     "output_type": "stream",
     "text": [
      "Epoch 1/1:  88%|████████████████████████████████████████████████████████████▍        | 411/469 [03:40<00:32,  1.77it/s]"
     ]
    },
    {
     "name": "stdout",
     "output_type": "stream",
     "text": [
      "ErrD: -539.7914428710938, ErrG: -365.8106689453125\n"
     ]
    },
    {
     "name": "stderr",
     "output_type": "stream",
     "text": [
      "Epoch 1/1:  90%|█████████████████████████████████████████████████████████████▉       | 421/469 [03:46<00:25,  1.85it/s]"
     ]
    },
    {
     "name": "stdout",
     "output_type": "stream",
     "text": [
      "ErrD: -351.439208984375, ErrG: -532.4767456054688\n"
     ]
    },
    {
     "name": "stderr",
     "output_type": "stream",
     "text": [
      "Epoch 1/1:  92%|███████████████████████████████████████████████████████████████▍     | 431/469 [03:51<00:20,  1.85it/s]"
     ]
    },
    {
     "name": "stdout",
     "output_type": "stream",
     "text": [
      "ErrD: -350.1005859375, ErrG: -522.8700561523438\n"
     ]
    },
    {
     "name": "stderr",
     "output_type": "stream",
     "text": [
      "Epoch 1/1:  94%|████████████████████████████████████████████████████████████████▉    | 441/469 [03:57<00:15,  1.81it/s]"
     ]
    },
    {
     "name": "stdout",
     "output_type": "stream",
     "text": [
      "ErrD: -108.70587158203125, ErrG: -744.736572265625\n"
     ]
    },
    {
     "name": "stderr",
     "output_type": "stream",
     "text": [
      "Epoch 1/1:  96%|██████████████████████████████████████████████████████████████████▎  | 451/469 [04:02<00:09,  1.83it/s]"
     ]
    },
    {
     "name": "stdout",
     "output_type": "stream",
     "text": [
      "ErrD: 681.1552124023438, ErrG: -1109.659912109375\n"
     ]
    },
    {
     "name": "stderr",
     "output_type": "stream",
     "text": [
      "Epoch 1/1:  98%|███████████████████████████████████████████████████████████████████▊ | 461/469 [04:07<00:04,  1.87it/s]"
     ]
    },
    {
     "name": "stdout",
     "output_type": "stream",
     "text": [
      "ErrD: 486.7830810546875, ErrG: -1318.935791015625\n"
     ]
    },
    {
     "name": "stderr",
     "output_type": "stream",
     "text": [
      "Epoch 1/1: 100%|█████████████████████████████████████████████████████████████████████| 469/469 [04:12<00:00,  1.86it/s]\n"
     ]
    },
    {
     "name": "stdout",
     "output_type": "stream",
     "text": [
      "ErrD: 501.7972412109375, ErrG: -1494.595458984375\n"
     ]
    },
    {
     "name": "stderr",
     "output_type": "stream",
     "text": [
      "Epoch 1/1:   0%|▏                                                                      | 1/469 [00:00<04:40,  1.67it/s]"
     ]
    },
    {
     "name": "stdout",
     "output_type": "stream",
     "text": [
      "ErrD: 519.75, ErrG: -1442.31201171875\n"
     ]
    },
    {
     "name": "stderr",
     "output_type": "stream",
     "text": [
      "Epoch 1/1:   2%|█▋                                                                    | 11/469 [00:06<04:09,  1.83it/s]"
     ]
    },
    {
     "name": "stdout",
     "output_type": "stream",
     "text": [
      "ErrD: 353.789794921875, ErrG: -1538.0316162109375\n"
     ]
    },
    {
     "name": "stderr",
     "output_type": "stream",
     "text": [
      "Epoch 1/1:   4%|███▏                                                                  | 21/469 [00:11<04:03,  1.84it/s]"
     ]
    },
    {
     "name": "stdout",
     "output_type": "stream",
     "text": [
      "ErrD: 272.719482421875, ErrG: -1380.082275390625\n"
     ]
    },
    {
     "name": "stderr",
     "output_type": "stream",
     "text": [
      "Epoch 1/1:   7%|████▋                                                                 | 31/469 [00:16<03:57,  1.85it/s]"
     ]
    },
    {
     "name": "stdout",
     "output_type": "stream",
     "text": [
      "ErrD: 198.708251953125, ErrG: -1262.67578125\n"
     ]
    },
    {
     "name": "stderr",
     "output_type": "stream",
     "text": [
      "Epoch 1/1:   9%|██████                                                                | 41/469 [00:22<03:52,  1.84it/s]"
     ]
    },
    {
     "name": "stdout",
     "output_type": "stream",
     "text": [
      "ErrD: 235.3914794921875, ErrG: -1093.7724609375\n"
     ]
    },
    {
     "name": "stderr",
     "output_type": "stream",
     "text": [
      "Epoch 1/1:  11%|███████▌                                                              | 51/469 [00:27<03:43,  1.87it/s]"
     ]
    },
    {
     "name": "stdout",
     "output_type": "stream",
     "text": [
      "ErrD: -58.1146240234375, ErrG: -677.9584350585938\n"
     ]
    },
    {
     "name": "stderr",
     "output_type": "stream",
     "text": [
      "Epoch 1/1:  13%|█████████                                                             | 61/469 [00:33<03:41,  1.84it/s]"
     ]
    },
    {
     "name": "stdout",
     "output_type": "stream",
     "text": [
      "ErrD: -285.1908264160156, ErrG: -254.93531799316406\n"
     ]
    },
    {
     "name": "stderr",
     "output_type": "stream",
     "text": [
      "Epoch 1/1:  15%|██████████▌                                                           | 71/469 [00:38<03:34,  1.86it/s]"
     ]
    },
    {
     "name": "stdout",
     "output_type": "stream",
     "text": [
      "ErrD: -511.61260986328125, ErrG: 93.32139587402344\n"
     ]
    },
    {
     "name": "stderr",
     "output_type": "stream",
     "text": [
      "Epoch 1/1:  17%|████████████                                                          | 81/469 [00:43<03:28,  1.86it/s]"
     ]
    },
    {
     "name": "stdout",
     "output_type": "stream",
     "text": [
      "ErrD: -640.9021606445312, ErrG: 295.68524169921875\n"
     ]
    },
    {
     "name": "stderr",
     "output_type": "stream",
     "text": [
      "Epoch 1/1:  19%|█████████████▌                                                        | 91/469 [00:49<03:24,  1.85it/s]"
     ]
    },
    {
     "name": "stdout",
     "output_type": "stream",
     "text": [
      "ErrD: -355.7740783691406, ErrG: 126.73059844970703\n"
     ]
    },
    {
     "name": "stderr",
     "output_type": "stream",
     "text": [
      "Epoch 1/1:  22%|██████████████▊                                                      | 101/469 [00:54<03:18,  1.85it/s]"
     ]
    },
    {
     "name": "stdout",
     "output_type": "stream",
     "text": [
      "ErrD: 433.7706298828125, ErrG: -515.984375\n"
     ]
    },
    {
     "name": "stderr",
     "output_type": "stream",
     "text": [
      "Epoch 1/1:  24%|████████████████▎                                                    | 111/469 [01:00<03:11,  1.87it/s]"
     ]
    },
    {
     "name": "stdout",
     "output_type": "stream",
     "text": [
      "ErrD: 707.540771484375, ErrG: -1075.810302734375\n"
     ]
    },
    {
     "name": "stderr",
     "output_type": "stream",
     "text": [
      "Epoch 1/1:  26%|█████████████████▊                                                   | 121/469 [01:05<03:07,  1.86it/s]"
     ]
    },
    {
     "name": "stdout",
     "output_type": "stream",
     "text": [
      "ErrD: 721.8394775390625, ErrG: -1149.29052734375\n"
     ]
    },
    {
     "name": "stderr",
     "output_type": "stream",
     "text": [
      "Epoch 1/1:  28%|███████████████████▎                                                 | 131/469 [01:10<02:59,  1.88it/s]"
     ]
    },
    {
     "name": "stdout",
     "output_type": "stream",
     "text": [
      "ErrD: 468.76019287109375, ErrG: -1262.6905517578125\n"
     ]
    },
    {
     "name": "stderr",
     "output_type": "stream",
     "text": [
      "Epoch 1/1:  30%|████████████████████▋                                                | 141/469 [01:16<02:54,  1.88it/s]"
     ]
    },
    {
     "name": "stdout",
     "output_type": "stream",
     "text": [
      "ErrD: 154.509765625, ErrG: -1015.6587524414062\n"
     ]
    },
    {
     "name": "stderr",
     "output_type": "stream",
     "text": [
      "Epoch 1/1:  32%|██████████████████████▏                                              | 151/469 [01:21<02:48,  1.88it/s]"
     ]
    },
    {
     "name": "stdout",
     "output_type": "stream",
     "text": [
      "ErrD: -224.30352783203125, ErrG: -684.6255493164062\n"
     ]
    },
    {
     "name": "stderr",
     "output_type": "stream",
     "text": [
      "Epoch 1/1:  34%|███████████████████████▋                                             | 161/469 [01:26<02:51,  1.80it/s]"
     ]
    },
    {
     "name": "stdout",
     "output_type": "stream",
     "text": [
      "ErrD: -346.69183349609375, ErrG: -616.0350341796875\n"
     ]
    },
    {
     "name": "stderr",
     "output_type": "stream",
     "text": [
      "Epoch 1/1:  36%|█████████████████████████▏                                           | 171/469 [01:32<02:37,  1.89it/s]"
     ]
    },
    {
     "name": "stdout",
     "output_type": "stream",
     "text": [
      "ErrD: -71.933349609375, ErrG: -820.3737182617188\n"
     ]
    },
    {
     "name": "stderr",
     "output_type": "stream",
     "text": [
      "Epoch 1/1:  39%|██████████████████████████▋                                          | 181/469 [01:37<02:32,  1.88it/s]"
     ]
    },
    {
     "name": "stdout",
     "output_type": "stream",
     "text": [
      "ErrD: -157.296142578125, ErrG: -1120.771484375\n"
     ]
    },
    {
     "name": "stderr",
     "output_type": "stream",
     "text": [
      "Epoch 1/1:  41%|████████████████████████████                                         | 191/469 [01:42<02:27,  1.88it/s]"
     ]
    },
    {
     "name": "stdout",
     "output_type": "stream",
     "text": [
      "ErrD: 206.247314453125, ErrG: -1358.124267578125\n"
     ]
    },
    {
     "name": "stderr",
     "output_type": "stream",
     "text": [
      "Epoch 1/1:  43%|█████████████████████████████▌                                       | 201/469 [01:48<02:21,  1.90it/s]"
     ]
    },
    {
     "name": "stdout",
     "output_type": "stream",
     "text": [
      "ErrD: 440.755615234375, ErrG: -1662.45166015625\n"
     ]
    },
    {
     "name": "stderr",
     "output_type": "stream",
     "text": [
      "Epoch 1/1:  45%|███████████████████████████████                                      | 211/469 [01:53<02:17,  1.87it/s]"
     ]
    },
    {
     "name": "stdout",
     "output_type": "stream",
     "text": [
      "ErrD: 542.7235107421875, ErrG: -1833.4254150390625\n"
     ]
    },
    {
     "name": "stderr",
     "output_type": "stream",
     "text": [
      "Epoch 1/1:  47%|████████████████████████████████▌                                    | 221/469 [01:58<02:11,  1.89it/s]"
     ]
    },
    {
     "name": "stdout",
     "output_type": "stream",
     "text": [
      "ErrD: 615.657470703125, ErrG: -1850.55029296875\n"
     ]
    },
    {
     "name": "stderr",
     "output_type": "stream",
     "text": [
      "Epoch 1/1:  49%|█████████████████████████████████▉                                   | 231/469 [02:04<02:10,  1.83it/s]"
     ]
    },
    {
     "name": "stdout",
     "output_type": "stream",
     "text": [
      "ErrD: 604.0260009765625, ErrG: -1604.446533203125\n"
     ]
    },
    {
     "name": "stderr",
     "output_type": "stream",
     "text": [
      "Epoch 1/1:  51%|███████████████████████████████████▍                                 | 241/469 [02:09<02:07,  1.79it/s]"
     ]
    },
    {
     "name": "stdout",
     "output_type": "stream",
     "text": [
      "ErrD: 202.963623046875, ErrG: -978.4027099609375\n"
     ]
    },
    {
     "name": "stderr",
     "output_type": "stream",
     "text": [
      "Epoch 1/1:  54%|████████████████████████████████████▉                                | 251/469 [02:15<02:01,  1.80it/s]"
     ]
    },
    {
     "name": "stdout",
     "output_type": "stream",
     "text": [
      "ErrD: -279.94195556640625, ErrG: -358.4649658203125\n"
     ]
    },
    {
     "name": "stderr",
     "output_type": "stream",
     "text": [
      "Epoch 1/1:  56%|██████████████████████████████████████▍                              | 261/469 [02:20<01:51,  1.86it/s]"
     ]
    },
    {
     "name": "stdout",
     "output_type": "stream",
     "text": [
      "ErrD: -551.4500122070312, ErrG: 169.78579711914062\n"
     ]
    },
    {
     "name": "stderr",
     "output_type": "stream",
     "text": [
      "Epoch 1/1:  58%|███████████████████████████████████████▊                             | 271/469 [02:25<01:43,  1.91it/s]"
     ]
    },
    {
     "name": "stdout",
     "output_type": "stream",
     "text": [
      "ErrD: -485.4216613769531, ErrG: 719.843994140625\n"
     ]
    },
    {
     "name": "stderr",
     "output_type": "stream",
     "text": [
      "Epoch 1/1:  60%|█████████████████████████████████████████▎                           | 281/469 [02:30<01:38,  1.90it/s]"
     ]
    },
    {
     "name": "stdout",
     "output_type": "stream",
     "text": [
      "ErrD: 378.9404296875, ErrG: 318.1195068359375\n"
     ]
    },
    {
     "name": "stderr",
     "output_type": "stream",
     "text": [
      "Epoch 1/1:  62%|██████████████████████████████████████████▊                          | 291/469 [02:36<01:36,  1.84it/s]"
     ]
    },
    {
     "name": "stdout",
     "output_type": "stream",
     "text": [
      "ErrD: 942.9130859375, ErrG: -83.05332946777344\n"
     ]
    },
    {
     "name": "stderr",
     "output_type": "stream",
     "text": [
      "Epoch 1/1:  64%|████████████████████████████████████████████▎                        | 301/469 [02:41<01:29,  1.88it/s]"
     ]
    },
    {
     "name": "stdout",
     "output_type": "stream",
     "text": [
      "ErrD: 718.6475830078125, ErrG: -237.19949340820312\n"
     ]
    },
    {
     "name": "stderr",
     "output_type": "stream",
     "text": [
      "Epoch 1/1:  66%|█████████████████████████████████████████████▊                       | 311/469 [02:46<01:23,  1.89it/s]"
     ]
    },
    {
     "name": "stdout",
     "output_type": "stream",
     "text": [
      "ErrD: 318.1300048828125, ErrG: -271.7117919921875\n"
     ]
    },
    {
     "name": "stderr",
     "output_type": "stream",
     "text": [
      "Epoch 1/1:  68%|███████████████████████████████████████████████▏                     | 321/469 [02:52<01:16,  1.93it/s]"
     ]
    },
    {
     "name": "stdout",
     "output_type": "stream",
     "text": [
      "ErrD: 147.75881958007812, ErrG: -205.46328735351562\n"
     ]
    },
    {
     "name": "stderr",
     "output_type": "stream",
     "text": [
      "Epoch 1/1:  71%|████████████████████████████████████████████████▋                    | 331/469 [02:57<01:11,  1.93it/s]"
     ]
    },
    {
     "name": "stdout",
     "output_type": "stream",
     "text": [
      "ErrD: -19.381195068359375, ErrG: -111.2151107788086\n"
     ]
    },
    {
     "name": "stderr",
     "output_type": "stream",
     "text": [
      "Epoch 1/1:  73%|██████████████████████████████████████████████████▏                  | 341/469 [03:02<01:08,  1.86it/s]"
     ]
    },
    {
     "name": "stdout",
     "output_type": "stream",
     "text": [
      "ErrD: -128.64793395996094, ErrG: 19.490764617919922\n"
     ]
    },
    {
     "name": "stderr",
     "output_type": "stream",
     "text": [
      "Epoch 1/1:  75%|███████████████████████████████████████████████████▋                 | 351/469 [03:07<01:01,  1.92it/s]"
     ]
    },
    {
     "name": "stdout",
     "output_type": "stream",
     "text": [
      "ErrD: -148.93954467773438, ErrG: 120.75907897949219\n"
     ]
    },
    {
     "name": "stderr",
     "output_type": "stream",
     "text": [
      "Epoch 1/1:  77%|█████████████████████████████████████████████████████                | 361/469 [03:12<00:56,  1.91it/s]"
     ]
    },
    {
     "name": "stdout",
     "output_type": "stream",
     "text": [
      "ErrD: -195.48641967773438, ErrG: 197.50357055664062\n"
     ]
    },
    {
     "name": "stderr",
     "output_type": "stream",
     "text": [
      "Epoch 1/1:  79%|██████████████████████████████████████████████████████▌              | 371/469 [03:18<00:52,  1.86it/s]"
     ]
    },
    {
     "name": "stdout",
     "output_type": "stream",
     "text": [
      "ErrD: -166.177001953125, ErrG: 274.5823059082031\n"
     ]
    },
    {
     "name": "stderr",
     "output_type": "stream",
     "text": [
      "Epoch 1/1:  81%|████████████████████████████████████████████████████████             | 381/469 [03:23<00:45,  1.95it/s]"
     ]
    },
    {
     "name": "stdout",
     "output_type": "stream",
     "text": [
      "ErrD: -129.26602172851562, ErrG: 281.61090087890625\n"
     ]
    },
    {
     "name": "stderr",
     "output_type": "stream",
     "text": [
      "Epoch 1/1:  83%|█████████████████████████████████████████████████████████▌           | 391/469 [03:28<00:40,  1.93it/s]"
     ]
    },
    {
     "name": "stdout",
     "output_type": "stream",
     "text": [
      "ErrD: -79.87579345703125, ErrG: 271.89862060546875\n"
     ]
    },
    {
     "name": "stderr",
     "output_type": "stream",
     "text": [
      "Epoch 1/1:  86%|██████████████████████████████████████████████████████████▉          | 401/469 [03:34<00:37,  1.80it/s]"
     ]
    },
    {
     "name": "stdout",
     "output_type": "stream",
     "text": [
      "ErrD: 29.669921875, ErrG: 247.53955078125\n"
     ]
    },
    {
     "name": "stderr",
     "output_type": "stream",
     "text": [
      "Epoch 1/1:  88%|████████████████████████████████████████████████████████████▍        | 411/469 [03:39<00:30,  1.88it/s]"
     ]
    },
    {
     "name": "stdout",
     "output_type": "stream",
     "text": [
      "ErrD: 142.7149200439453, ErrG: 249.75787353515625\n"
     ]
    },
    {
     "name": "stderr",
     "output_type": "stream",
     "text": [
      "Epoch 1/1:  90%|█████████████████████████████████████████████████████████████▉       | 421/469 [03:44<00:24,  1.92it/s]"
     ]
    },
    {
     "name": "stdout",
     "output_type": "stream",
     "text": [
      "ErrD: 209.31361389160156, ErrG: 244.15423583984375\n"
     ]
    },
    {
     "name": "stderr",
     "output_type": "stream",
     "text": [
      "Epoch 1/1:  92%|███████████████████████████████████████████████████████████████▍     | 431/469 [03:50<00:20,  1.87it/s]"
     ]
    },
    {
     "name": "stdout",
     "output_type": "stream",
     "text": [
      "ErrD: 159.1058349609375, ErrG: 308.1479797363281\n"
     ]
    },
    {
     "name": "stderr",
     "output_type": "stream",
     "text": [
      "Epoch 1/1:  94%|████████████████████████████████████████████████████████████████▉    | 441/469 [03:55<00:14,  1.87it/s]"
     ]
    },
    {
     "name": "stdout",
     "output_type": "stream",
     "text": [
      "ErrD: 10.011199951171875, ErrG: 364.9911193847656\n"
     ]
    },
    {
     "name": "stderr",
     "output_type": "stream",
     "text": [
      "Epoch 1/1:  96%|██████████████████████████████████████████████████████████████████▎  | 451/469 [04:00<00:09,  1.84it/s]"
     ]
    },
    {
     "name": "stdout",
     "output_type": "stream",
     "text": [
      "ErrD: 23.924652099609375, ErrG: 424.57159423828125\n"
     ]
    },
    {
     "name": "stderr",
     "output_type": "stream",
     "text": [
      "Epoch 1/1:  98%|███████████████████████████████████████████████████████████████████▊ | 461/469 [04:06<00:04,  1.85it/s]"
     ]
    },
    {
     "name": "stdout",
     "output_type": "stream",
     "text": [
      "ErrD: -301.0181579589844, ErrG: 524.9638671875\n"
     ]
    },
    {
     "name": "stderr",
     "output_type": "stream",
     "text": [
      "Epoch 1/1: 100%|█████████████████████████████████████████████████████████████████████| 469/469 [04:10<00:00,  1.87it/s]\n"
     ]
    },
    {
     "name": "stdout",
     "output_type": "stream",
     "text": [
      "ErrD: -388.1541748046875, ErrG: 618.21875\n"
     ]
    },
    {
     "name": "stderr",
     "output_type": "stream",
     "text": [
      "Epoch 1/1:   0%|▏                                                                      | 1/469 [00:00<04:54,  1.59it/s]"
     ]
    },
    {
     "name": "stdout",
     "output_type": "stream",
     "text": [
      "ErrD: -9.057696342468262, ErrG: 76.29110717773438\n"
     ]
    },
    {
     "name": "stderr",
     "output_type": "stream",
     "text": [
      "Epoch 1/1:   2%|█▋                                                                    | 11/469 [00:06<04:23,  1.74it/s]"
     ]
    },
    {
     "name": "stdout",
     "output_type": "stream",
     "text": [
      "ErrD: -1648.16015625, ErrG: 2462.75146484375\n"
     ]
    },
    {
     "name": "stderr",
     "output_type": "stream",
     "text": [
      "Epoch 1/1:   4%|███▏                                                                  | 21/469 [00:12<04:16,  1.75it/s]"
     ]
    },
    {
     "name": "stdout",
     "output_type": "stream",
     "text": [
      "ErrD: -1582.2978515625, ErrG: 7666.720703125\n"
     ]
    },
    {
     "name": "stderr",
     "output_type": "stream",
     "text": [
      "Epoch 1/1:   7%|████▋                                                                 | 31/469 [00:18<04:09,  1.75it/s]"
     ]
    },
    {
     "name": "stdout",
     "output_type": "stream",
     "text": [
      "ErrD: 1195.45751953125, ErrG: -2322.74560546875\n"
     ]
    },
    {
     "name": "stderr",
     "output_type": "stream",
     "text": [
      "Epoch 1/1:   9%|██████                                                                | 41/469 [00:23<04:06,  1.73it/s]"
     ]
    },
    {
     "name": "stdout",
     "output_type": "stream",
     "text": [
      "ErrD: -177861.953125, ErrG: 239842.75\n"
     ]
    },
    {
     "name": "stderr",
     "output_type": "stream",
     "text": [
      "Epoch 1/1:  11%|███████▌                                                              | 51/469 [00:29<03:56,  1.77it/s]"
     ]
    },
    {
     "name": "stdout",
     "output_type": "stream",
     "text": [
      "ErrD: 128531.5, ErrG: -84511.109375\n"
     ]
    },
    {
     "name": "stderr",
     "output_type": "stream",
     "text": [
      "Epoch 1/1:  13%|█████████                                                             | 61/469 [00:35<03:59,  1.70it/s]"
     ]
    },
    {
     "name": "stdout",
     "output_type": "stream",
     "text": [
      "ErrD: -106102.8203125, ErrG: 165248.4375\n"
     ]
    },
    {
     "name": "stderr",
     "output_type": "stream",
     "text": [
      "Epoch 1/1:  15%|██████████▌                                                           | 71/469 [00:41<03:48,  1.74it/s]"
     ]
    },
    {
     "name": "stdout",
     "output_type": "stream",
     "text": [
      "ErrD: -120844.734375, ErrG: 283301.5625\n"
     ]
    },
    {
     "name": "stderr",
     "output_type": "stream",
     "text": [
      "Epoch 1/1:  17%|████████████                                                          | 81/469 [00:46<03:41,  1.75it/s]"
     ]
    },
    {
     "name": "stdout",
     "output_type": "stream",
     "text": [
      "ErrD: 97765.0390625, ErrG: 131641.0625\n"
     ]
    },
    {
     "name": "stderr",
     "output_type": "stream",
     "text": [
      "Epoch 1/1:  19%|█████████████▌                                                        | 91/469 [00:52<03:44,  1.69it/s]"
     ]
    },
    {
     "name": "stdout",
     "output_type": "stream",
     "text": [
      "ErrD: 111881.828125, ErrG: 41928.375\n"
     ]
    },
    {
     "name": "stderr",
     "output_type": "stream",
     "text": [
      "Epoch 1/1:  22%|██████████████▊                                                      | 101/469 [00:58<03:34,  1.71it/s]"
     ]
    },
    {
     "name": "stdout",
     "output_type": "stream",
     "text": [
      "ErrD: 87114.28125, ErrG: 11695.2060546875\n"
     ]
    },
    {
     "name": "stderr",
     "output_type": "stream",
     "text": [
      "Epoch 1/1:  24%|████████████████▎                                                    | 111/469 [01:04<03:25,  1.74it/s]"
     ]
    },
    {
     "name": "stdout",
     "output_type": "stream",
     "text": [
      "ErrD: 49591.98046875, ErrG: 518.9028930664062\n"
     ]
    },
    {
     "name": "stderr",
     "output_type": "stream",
     "text": [
      "Epoch 1/1:  26%|█████████████████▊                                                   | 121/469 [01:09<03:21,  1.73it/s]"
     ]
    },
    {
     "name": "stdout",
     "output_type": "stream",
     "text": [
      "ErrD: 8438.380859375, ErrG: -6310.927734375\n"
     ]
    },
    {
     "name": "stderr",
     "output_type": "stream",
     "text": [
      "Epoch 1/1:  28%|███████████████████▎                                                 | 131/469 [01:15<03:12,  1.75it/s]"
     ]
    },
    {
     "name": "stdout",
     "output_type": "stream",
     "text": [
      "ErrD: -2564.94140625, ErrG: -10468.423828125\n"
     ]
    },
    {
     "name": "stderr",
     "output_type": "stream",
     "text": [
      "Epoch 1/1:  30%|████████████████████▋                                                | 141/469 [01:21<03:10,  1.72it/s]"
     ]
    },
    {
     "name": "stdout",
     "output_type": "stream",
     "text": [
      "ErrD: -7240.2216796875, ErrG: -15708.763671875\n"
     ]
    },
    {
     "name": "stderr",
     "output_type": "stream",
     "text": [
      "Epoch 1/1:  32%|██████████████████████▏                                              | 151/469 [01:27<03:01,  1.75it/s]"
     ]
    },
    {
     "name": "stdout",
     "output_type": "stream",
     "text": [
      "ErrD: -8538.60546875, ErrG: -22332.78125\n"
     ]
    },
    {
     "name": "stderr",
     "output_type": "stream",
     "text": [
      "Epoch 1/1:  34%|███████████████████████▋                                             | 161/469 [01:32<03:00,  1.70it/s]"
     ]
    },
    {
     "name": "stdout",
     "output_type": "stream",
     "text": [
      "ErrD: -13447.466796875, ErrG: -27763.953125\n"
     ]
    },
    {
     "name": "stderr",
     "output_type": "stream",
     "text": [
      "Epoch 1/1:  36%|█████████████████████████▏                                           | 171/469 [01:38<02:49,  1.76it/s]"
     ]
    },
    {
     "name": "stdout",
     "output_type": "stream",
     "text": [
      "ErrD: -20647.390625, ErrG: -35518.7734375\n"
     ]
    },
    {
     "name": "stderr",
     "output_type": "stream",
     "text": [
      "Epoch 1/1:  39%|██████████████████████████▋                                          | 181/469 [01:44<02:44,  1.75it/s]"
     ]
    },
    {
     "name": "stdout",
     "output_type": "stream",
     "text": [
      "ErrD: -25876.1875, ErrG: -56180.03125\n"
     ]
    },
    {
     "name": "stderr",
     "output_type": "stream",
     "text": [
      "Epoch 1/1:  41%|████████████████████████████                                         | 191/469 [01:49<02:35,  1.79it/s]"
     ]
    },
    {
     "name": "stdout",
     "output_type": "stream",
     "text": [
      "ErrD: -31668.28125, ErrG: -103188.6796875\n"
     ]
    },
    {
     "name": "stderr",
     "output_type": "stream",
     "text": [
      "Epoch 1/1:  43%|█████████████████████████████▌                                       | 201/469 [01:55<02:30,  1.78it/s]"
     ]
    },
    {
     "name": "stdout",
     "output_type": "stream",
     "text": [
      "ErrD: 100805.71875, ErrG: -258584.265625\n"
     ]
    },
    {
     "name": "stderr",
     "output_type": "stream",
     "text": [
      "Epoch 1/1:  45%|███████████████████████████████                                      | 211/469 [02:01<02:26,  1.76it/s]"
     ]
    },
    {
     "name": "stdout",
     "output_type": "stream",
     "text": [
      "ErrD: 179135.59375, ErrG: -125834.640625\n"
     ]
    },
    {
     "name": "stderr",
     "output_type": "stream",
     "text": [
      "Epoch 1/1:  47%|████████████████████████████████▌                                    | 221/469 [02:06<02:24,  1.71it/s]"
     ]
    },
    {
     "name": "stdout",
     "output_type": "stream",
     "text": [
      "ErrD: -2446790.5, ErrG: 3686785.0\n"
     ]
    },
    {
     "name": "stderr",
     "output_type": "stream",
     "text": [
      "Epoch 1/1:  49%|█████████████████████████████████▉                                   | 231/469 [02:12<02:18,  1.72it/s]"
     ]
    },
    {
     "name": "stdout",
     "output_type": "stream",
     "text": [
      "ErrD: 2778173.0, ErrG: -883231.0\n"
     ]
    },
    {
     "name": "stderr",
     "output_type": "stream",
     "text": [
      "Epoch 1/1:  51%|███████████████████████████████████▍                                 | 241/469 [02:18<02:12,  1.72it/s]"
     ]
    },
    {
     "name": "stdout",
     "output_type": "stream",
     "text": [
      "ErrD: 3020951.75, ErrG: 5893600.0\n"
     ]
    },
    {
     "name": "stderr",
     "output_type": "stream",
     "text": [
      "Epoch 1/1:  54%|████████████████████████████████████▉                                | 251/469 [02:24<02:03,  1.77it/s]"
     ]
    },
    {
     "name": "stdout",
     "output_type": "stream",
     "text": [
      "ErrD: -57411824.0, ErrG: 99792848.0\n"
     ]
    },
    {
     "name": "stderr",
     "output_type": "stream",
     "text": [
      "Epoch 1/1:  56%|██████████████████████████████████████▍                              | 261/469 [02:30<02:01,  1.71it/s]"
     ]
    },
    {
     "name": "stdout",
     "output_type": "stream",
     "text": [
      "ErrD: -2285196.0, ErrG: 4616562.5\n"
     ]
    },
    {
     "name": "stderr",
     "output_type": "stream",
     "text": [
      "Epoch 1/1:  58%|███████████████████████████████████████▊                             | 271/469 [02:35<01:52,  1.76it/s]"
     ]
    },
    {
     "name": "stdout",
     "output_type": "stream",
     "text": [
      "ErrD: -1439676.5, ErrG: 4790821.0\n"
     ]
    },
    {
     "name": "stderr",
     "output_type": "stream",
     "text": [
      "Epoch 1/1:  60%|█████████████████████████████████████████▎                           | 281/469 [02:41<01:46,  1.76it/s]"
     ]
    },
    {
     "name": "stdout",
     "output_type": "stream",
     "text": [
      "ErrD: 2823248.75, ErrG: 1689165.5\n"
     ]
    },
    {
     "name": "stderr",
     "output_type": "stream",
     "text": [
      "Epoch 1/1:  62%|██████████████████████████████████████████▊                          | 291/469 [02:47<01:39,  1.78it/s]"
     ]
    },
    {
     "name": "stdout",
     "output_type": "stream",
     "text": [
      "ErrD: 3382438.25, ErrG: 821026.75\n"
     ]
    },
    {
     "name": "stderr",
     "output_type": "stream",
     "text": [
      "Epoch 1/1:  64%|████████████████████████████████████████████▎                        | 301/469 [02:52<01:34,  1.77it/s]"
     ]
    },
    {
     "name": "stdout",
     "output_type": "stream",
     "text": [
      "ErrD: 4314318.5, ErrG: 334490.96875\n"
     ]
    },
    {
     "name": "stderr",
     "output_type": "stream",
     "text": [
      "Epoch 1/1:  66%|█████████████████████████████████████████████▊                       | 311/469 [02:58<01:29,  1.77it/s]"
     ]
    },
    {
     "name": "stdout",
     "output_type": "stream",
     "text": [
      "ErrD: 2357344.75, ErrG: 198598.4375\n"
     ]
    },
    {
     "name": "stderr",
     "output_type": "stream",
     "text": [
      "Epoch 1/1:  68%|███████████████████████████████████████████████▏                     | 321/469 [03:04<01:24,  1.76it/s]"
     ]
    },
    {
     "name": "stdout",
     "output_type": "stream",
     "text": [
      "ErrD: 1762506.75, ErrG: 122303.5078125\n"
     ]
    },
    {
     "name": "stderr",
     "output_type": "stream",
     "text": [
      "Epoch 1/1:  71%|████████████████████████████████████████████████▋                    | 331/469 [03:09<01:17,  1.77it/s]"
     ]
    },
    {
     "name": "stdout",
     "output_type": "stream",
     "text": [
      "ErrD: 1372200.625, ErrG: 163345.046875\n"
     ]
    },
    {
     "name": "stderr",
     "output_type": "stream",
     "text": [
      "Epoch 1/1:  73%|██████████████████████████████████████████████████▏                  | 341/469 [03:15<01:14,  1.71it/s]"
     ]
    },
    {
     "name": "stdout",
     "output_type": "stream",
     "text": [
      "ErrD: 617747.75, ErrG: 149034.875\n"
     ]
    },
    {
     "name": "stderr",
     "output_type": "stream",
     "text": [
      "Epoch 1/1:  75%|███████████████████████████████████████████████████▋                 | 351/469 [03:21<01:09,  1.69it/s]"
     ]
    },
    {
     "name": "stdout",
     "output_type": "stream",
     "text": [
      "ErrD: 320969.96875, ErrG: 94916.203125\n"
     ]
    },
    {
     "name": "stderr",
     "output_type": "stream",
     "text": [
      "Epoch 1/1:  77%|█████████████████████████████████████████████████████                | 361/469 [03:27<01:06,  1.62it/s]"
     ]
    },
    {
     "name": "stdout",
     "output_type": "stream",
     "text": [
      "ErrD: 136293.4375, ErrG: 58309.609375\n"
     ]
    },
    {
     "name": "stderr",
     "output_type": "stream",
     "text": [
      "Epoch 1/1:  79%|██████████████████████████████████████████████████████▌              | 371/469 [03:33<00:57,  1.69it/s]"
     ]
    },
    {
     "name": "stdout",
     "output_type": "stream",
     "text": [
      "ErrD: 89763.109375, ErrG: 13146.857421875\n"
     ]
    },
    {
     "name": "stderr",
     "output_type": "stream",
     "text": [
      "Epoch 1/1:  81%|████████████████████████████████████████████████████████             | 381/469 [03:39<00:53,  1.65it/s]"
     ]
    },
    {
     "name": "stdout",
     "output_type": "stream",
     "text": [
      "ErrD: 74918.328125, ErrG: -52718.51953125\n"
     ]
    },
    {
     "name": "stderr",
     "output_type": "stream",
     "text": [
      "Epoch 1/1:  83%|█████████████████████████████████████████████████████████▌           | 391/469 [03:45<00:46,  1.68it/s]"
     ]
    },
    {
     "name": "stdout",
     "output_type": "stream",
     "text": [
      "ErrD: -194215.078125, ErrG: -128220.171875\n"
     ]
    },
    {
     "name": "stderr",
     "output_type": "stream",
     "text": [
      "Epoch 1/1:  86%|██████████████████████████████████████████████████████████▉          | 401/469 [03:51<00:40,  1.68it/s]"
     ]
    },
    {
     "name": "stdout",
     "output_type": "stream",
     "text": [
      "ErrD: -281207.125, ErrG: -277478.5\n"
     ]
    },
    {
     "name": "stderr",
     "output_type": "stream",
     "text": [
      "Epoch 1/1:  88%|████████████████████████████████████████████████████████████▍        | 411/469 [03:57<00:33,  1.72it/s]"
     ]
    },
    {
     "name": "stdout",
     "output_type": "stream",
     "text": [
      "ErrD: -402327.9375, ErrG: -675536.8125\n"
     ]
    },
    {
     "name": "stderr",
     "output_type": "stream",
     "text": [
      "Epoch 1/1:  90%|█████████████████████████████████████████████████████████████▉       | 421/469 [04:03<00:27,  1.73it/s]"
     ]
    },
    {
     "name": "stdout",
     "output_type": "stream",
     "text": [
      "ErrD: 27934.625, ErrG: -1557086.75\n"
     ]
    },
    {
     "name": "stderr",
     "output_type": "stream",
     "text": [
      "Epoch 1/1:  92%|███████████████████████████████████████████████████████████████▍     | 431/469 [04:08<00:22,  1.69it/s]"
     ]
    },
    {
     "name": "stdout",
     "output_type": "stream",
     "text": [
      "ErrD: 1466680.5, ErrG: -2931129.5\n"
     ]
    },
    {
     "name": "stderr",
     "output_type": "stream",
     "text": [
      "Epoch 1/1:  94%|████████████████████████████████████████████████████████████████▉    | 441/469 [04:14<00:16,  1.69it/s]"
     ]
    },
    {
     "name": "stdout",
     "output_type": "stream",
     "text": [
      "ErrD: 5129062.5, ErrG: -4280882.5\n"
     ]
    },
    {
     "name": "stderr",
     "output_type": "stream",
     "text": [
      "Epoch 1/1:  96%|██████████████████████████████████████████████████████████████████▎  | 451/469 [04:20<00:10,  1.65it/s]"
     ]
    },
    {
     "name": "stdout",
     "output_type": "stream",
     "text": [
      "ErrD: -20330074.0, ErrG: 32026736.0\n"
     ]
    },
    {
     "name": "stderr",
     "output_type": "stream",
     "text": [
      "Epoch 1/1:  98%|███████████████████████████████████████████████████████████████████▊ | 461/469 [04:26<00:04,  1.68it/s]"
     ]
    },
    {
     "name": "stdout",
     "output_type": "stream",
     "text": [
      "ErrD: 5899861.0, ErrG: 7076115.0\n"
     ]
    },
    {
     "name": "stderr",
     "output_type": "stream",
     "text": [
      "Epoch 1/1: 100%|█████████████████████████████████████████████████████████████████████| 469/469 [04:31<00:00,  1.73it/s]\n"
     ]
    },
    {
     "name": "stdout",
     "output_type": "stream",
     "text": [
      "ErrD: 6678687.0, ErrG: 3723693.5\n"
     ]
    },
    {
     "name": "stderr",
     "output_type": "stream",
     "text": [
      "Epoch 1/1:   0%|▏                                                                      | 1/469 [00:00<04:33,  1.71it/s]"
     ]
    },
    {
     "name": "stdout",
     "output_type": "stream",
     "text": [
      "ErrD: 5535620.5, ErrG: 3385665.0\n"
     ]
    },
    {
     "name": "stderr",
     "output_type": "stream",
     "text": [
      "Epoch 1/1:   2%|█▋                                                                    | 11/469 [00:06<04:39,  1.64it/s]"
     ]
    },
    {
     "name": "stdout",
     "output_type": "stream",
     "text": [
      "ErrD: 2984572.25, ErrG: 599707.25\n"
     ]
    },
    {
     "name": "stderr",
     "output_type": "stream",
     "text": [
      "Epoch 1/1:   4%|███▏                                                                  | 21/469 [00:12<04:27,  1.68it/s]"
     ]
    },
    {
     "name": "stdout",
     "output_type": "stream",
     "text": [
      "ErrD: 1792441.875, ErrG: 422568.0\n"
     ]
    },
    {
     "name": "stderr",
     "output_type": "stream",
     "text": [
      "Epoch 1/1:   7%|████▋                                                                 | 31/469 [00:18<04:21,  1.68it/s]"
     ]
    },
    {
     "name": "stdout",
     "output_type": "stream",
     "text": [
      "ErrD: 1373339.875, ErrG: 352009.5\n"
     ]
    },
    {
     "name": "stderr",
     "output_type": "stream",
     "text": [
      "Epoch 1/1:   9%|██████                                                                | 41/469 [00:24<04:11,  1.70it/s]"
     ]
    },
    {
     "name": "stdout",
     "output_type": "stream",
     "text": [
      "ErrD: 1163412.75, ErrG: 175020.421875\n"
     ]
    },
    {
     "name": "stderr",
     "output_type": "stream",
     "text": [
      "Epoch 1/1:  11%|███████▌                                                              | 51/469 [00:30<04:11,  1.66it/s]"
     ]
    },
    {
     "name": "stdout",
     "output_type": "stream",
     "text": [
      "ErrD: 839344.0, ErrG: 156045.21875\n"
     ]
    },
    {
     "name": "stderr",
     "output_type": "stream",
     "text": [
      "Epoch 1/1:  13%|█████████                                                             | 61/469 [00:36<04:00,  1.70it/s]"
     ]
    },
    {
     "name": "stdout",
     "output_type": "stream",
     "text": [
      "ErrD: 758525.125, ErrG: 160077.59375\n"
     ]
    },
    {
     "name": "stderr",
     "output_type": "stream",
     "text": [
      "Epoch 1/1:  15%|██████████▌                                                           | 71/469 [00:41<03:51,  1.72it/s]"
     ]
    },
    {
     "name": "stdout",
     "output_type": "stream",
     "text": [
      "ErrD: 515790.65625, ErrG: 217377.75\n"
     ]
    },
    {
     "name": "stderr",
     "output_type": "stream",
     "text": [
      "Epoch 1/1:  17%|████████████                                                          | 81/469 [00:47<03:37,  1.78it/s]"
     ]
    },
    {
     "name": "stdout",
     "output_type": "stream",
     "text": [
      "ErrD: 226291.09375, ErrG: 497395.125\n"
     ]
    },
    {
     "name": "stderr",
     "output_type": "stream",
     "text": [
      "Epoch 1/1:  19%|█████████████▌                                                        | 91/469 [00:53<03:33,  1.77it/s]"
     ]
    },
    {
     "name": "stdout",
     "output_type": "stream",
     "text": [
      "ErrD: 174800.3125, ErrG: 647963.875\n"
     ]
    },
    {
     "name": "stderr",
     "output_type": "stream",
     "text": [
      "Epoch 1/1:  22%|██████████████▊                                                      | 101/469 [00:58<03:25,  1.79it/s]"
     ]
    },
    {
     "name": "stdout",
     "output_type": "stream",
     "text": [
      "ErrD: 193060.0625, ErrG: 618018.875\n"
     ]
    },
    {
     "name": "stderr",
     "output_type": "stream",
     "text": [
      "Epoch 1/1:  24%|████████████████▎                                                    | 111/469 [01:04<03:20,  1.78it/s]"
     ]
    },
    {
     "name": "stdout",
     "output_type": "stream",
     "text": [
      "ErrD: 7096.0, ErrG: 503788.3125\n"
     ]
    },
    {
     "name": "stderr",
     "output_type": "stream",
     "text": [
      "Epoch 1/1:  26%|█████████████████▊                                                   | 121/469 [01:10<03:16,  1.77it/s]"
     ]
    },
    {
     "name": "stdout",
     "output_type": "stream",
     "text": [
      "ErrD: -133141.6875, ErrG: 911508.5\n"
     ]
    },
    {
     "name": "stderr",
     "output_type": "stream",
     "text": [
      "Epoch 1/1:  28%|███████████████████▎                                                 | 131/469 [01:15<03:10,  1.77it/s]"
     ]
    },
    {
     "name": "stdout",
     "output_type": "stream",
     "text": [
      "ErrD: 374190.46875, ErrG: 261487.96875\n"
     ]
    },
    {
     "name": "stderr",
     "output_type": "stream",
     "text": [
      "Epoch 1/1:  30%|████████████████████▋                                                | 141/469 [01:21<03:05,  1.76it/s]"
     ]
    },
    {
     "name": "stdout",
     "output_type": "stream",
     "text": [
      "ErrD: -297522.40625, ErrG: 957817.75\n"
     ]
    },
    {
     "name": "stderr",
     "output_type": "stream",
     "text": [
      "Epoch 1/1:  32%|██████████████████████▏                                              | 151/469 [01:27<02:59,  1.77it/s]"
     ]
    },
    {
     "name": "stdout",
     "output_type": "stream",
     "text": [
      "ErrD: 143818.0, ErrG: 739840.375\n"
     ]
    },
    {
     "name": "stderr",
     "output_type": "stream",
     "text": [
      "Epoch 1/1:  34%|███████████████████████▋                                             | 161/469 [01:32<02:55,  1.75it/s]"
     ]
    },
    {
     "name": "stdout",
     "output_type": "stream",
     "text": [
      "ErrD: 279259.5625, ErrG: 262832.4375\n"
     ]
    },
    {
     "name": "stderr",
     "output_type": "stream",
     "text": [
      "Epoch 1/1:  36%|█████████████████████████▏                                           | 171/469 [01:38<02:47,  1.78it/s]"
     ]
    },
    {
     "name": "stdout",
     "output_type": "stream",
     "text": [
      "ErrD: -282428.34375, ErrG: 863009.875\n"
     ]
    },
    {
     "name": "stderr",
     "output_type": "stream",
     "text": [
      "Epoch 1/1:  39%|██████████████████████████▋                                          | 181/469 [01:44<02:44,  1.76it/s]"
     ]
    },
    {
     "name": "stdout",
     "output_type": "stream",
     "text": [
      "ErrD: -45372.5625, ErrG: 911809.25\n"
     ]
    },
    {
     "name": "stderr",
     "output_type": "stream",
     "text": [
      "Epoch 1/1:  41%|████████████████████████████                                         | 191/469 [01:49<02:37,  1.77it/s]"
     ]
    },
    {
     "name": "stdout",
     "output_type": "stream",
     "text": [
      "ErrD: -89586.375, ErrG: 521993.0\n"
     ]
    },
    {
     "name": "stderr",
     "output_type": "stream",
     "text": [
      "Epoch 1/1:  43%|█████████████████████████████▌                                       | 201/469 [01:55<02:32,  1.76it/s]"
     ]
    },
    {
     "name": "stdout",
     "output_type": "stream",
     "text": [
      "ErrD: -293853.375, ErrG: 529575.4375\n"
     ]
    },
    {
     "name": "stderr",
     "output_type": "stream",
     "text": [
      "Epoch 1/1:  45%|███████████████████████████████                                      | 211/469 [02:01<02:26,  1.76it/s]"
     ]
    },
    {
     "name": "stdout",
     "output_type": "stream",
     "text": [
      "ErrD: -36049.84375, ErrG: 507051.6875\n"
     ]
    },
    {
     "name": "stderr",
     "output_type": "stream",
     "text": [
      "Epoch 1/1:  47%|████████████████████████████████▌                                    | 221/469 [02:06<02:20,  1.77it/s]"
     ]
    },
    {
     "name": "stdout",
     "output_type": "stream",
     "text": [
      "ErrD: 109913.859375, ErrG: 218177.828125\n"
     ]
    },
    {
     "name": "stderr",
     "output_type": "stream",
     "text": [
      "Epoch 1/1:  49%|█████████████████████████████████▉                                   | 231/469 [02:12<02:14,  1.77it/s]"
     ]
    },
    {
     "name": "stdout",
     "output_type": "stream",
     "text": [
      "ErrD: -587934.125, ErrG: 849033.25\n"
     ]
    },
    {
     "name": "stderr",
     "output_type": "stream",
     "text": [
      "Epoch 1/1:  51%|███████████████████████████████████▍                                 | 241/469 [02:17<02:08,  1.78it/s]"
     ]
    },
    {
     "name": "stdout",
     "output_type": "stream",
     "text": [
      "ErrD: -562942.0, ErrG: 1407095.5\n"
     ]
    },
    {
     "name": "stderr",
     "output_type": "stream",
     "text": [
      "Epoch 1/1:  54%|████████████████████████████████████▉                                | 251/469 [02:23<02:04,  1.75it/s]"
     ]
    },
    {
     "name": "stdout",
     "output_type": "stream",
     "text": [
      "ErrD: -44387.25, ErrG: 1181276.375\n"
     ]
    },
    {
     "name": "stderr",
     "output_type": "stream",
     "text": [
      "Epoch 1/1:  56%|██████████████████████████████████████▍                              | 261/469 [02:29<01:56,  1.79it/s]"
     ]
    },
    {
     "name": "stdout",
     "output_type": "stream",
     "text": [
      "ErrD: -732433.5, ErrG: 1330077.75\n"
     ]
    },
    {
     "name": "stderr",
     "output_type": "stream",
     "text": [
      "Epoch 1/1:  58%|███████████████████████████████████████▊                             | 271/469 [02:34<01:51,  1.77it/s]"
     ]
    },
    {
     "name": "stdout",
     "output_type": "stream",
     "text": [
      "ErrD: -1297491.75, ErrG: 1878284.0\n"
     ]
    },
    {
     "name": "stderr",
     "output_type": "stream",
     "text": [
      "Epoch 1/1:  60%|█████████████████████████████████████████▎                           | 281/469 [02:40<01:46,  1.76it/s]"
     ]
    },
    {
     "name": "stdout",
     "output_type": "stream",
     "text": [
      "ErrD: 1077202.375, ErrG: 599511.375\n"
     ]
    },
    {
     "name": "stderr",
     "output_type": "stream",
     "text": [
      "Epoch 1/1:  62%|██████████████████████████████████████████▊                          | 291/469 [02:46<01:39,  1.80it/s]"
     ]
    },
    {
     "name": "stdout",
     "output_type": "stream",
     "text": [
      "ErrD: 470638.125, ErrG: 8873.400390625\n"
     ]
    },
    {
     "name": "stderr",
     "output_type": "stream",
     "text": [
      "Epoch 1/1:  64%|████████████████████████████████████████████▎                        | 301/469 [02:51<01:34,  1.77it/s]"
     ]
    },
    {
     "name": "stdout",
     "output_type": "stream",
     "text": [
      "ErrD: 135668.640625, ErrG: 37647.671875\n"
     ]
    },
    {
     "name": "stderr",
     "output_type": "stream",
     "text": [
      "Epoch 1/1:  66%|█████████████████████████████████████████████▊                       | 311/469 [02:57<01:29,  1.77it/s]"
     ]
    },
    {
     "name": "stdout",
     "output_type": "stream",
     "text": [
      "ErrD: 195010.6875, ErrG: 31541.078125\n"
     ]
    },
    {
     "name": "stderr",
     "output_type": "stream",
     "text": [
      "Epoch 1/1:  68%|███████████████████████████████████████████████▏                     | 321/469 [03:03<01:22,  1.79it/s]"
     ]
    },
    {
     "name": "stdout",
     "output_type": "stream",
     "text": [
      "ErrD: 56750.015625, ErrG: -43954.859375\n"
     ]
    },
    {
     "name": "stderr",
     "output_type": "stream",
     "text": [
      "Epoch 1/1:  71%|████████████████████████████████████████████████▋                    | 331/469 [03:08<01:17,  1.77it/s]"
     ]
    },
    {
     "name": "stdout",
     "output_type": "stream",
     "text": [
      "ErrD: 65349.640625, ErrG: -48541.0625\n"
     ]
    },
    {
     "name": "stderr",
     "output_type": "stream",
     "text": [
      "Epoch 1/1:  73%|██████████████████████████████████████████████████▏                  | 341/469 [03:14<01:12,  1.76it/s]"
     ]
    },
    {
     "name": "stdout",
     "output_type": "stream",
     "text": [
      "ErrD: 70800.9609375, ErrG: -50483.5\n"
     ]
    },
    {
     "name": "stderr",
     "output_type": "stream",
     "text": [
      "Epoch 1/1:  75%|███████████████████████████████████████████████████▋                 | 351/469 [03:20<01:09,  1.69it/s]"
     ]
    },
    {
     "name": "stdout",
     "output_type": "stream",
     "text": [
      "ErrD: 58743.3984375, ErrG: -49241.67578125\n"
     ]
    },
    {
     "name": "stderr",
     "output_type": "stream",
     "text": [
      "Epoch 1/1:  77%|█████████████████████████████████████████████████████                | 361/469 [03:25<01:02,  1.74it/s]"
     ]
    },
    {
     "name": "stdout",
     "output_type": "stream",
     "text": [
      "ErrD: 59556.640625, ErrG: -49815.375\n"
     ]
    },
    {
     "name": "stderr",
     "output_type": "stream",
     "text": [
      "Epoch 1/1:  79%|██████████████████████████████████████████████████████▌              | 371/469 [03:31<00:56,  1.75it/s]"
     ]
    },
    {
     "name": "stdout",
     "output_type": "stream",
     "text": [
      "ErrD: 58047.49609375, ErrG: -53039.28125\n"
     ]
    },
    {
     "name": "stderr",
     "output_type": "stream",
     "text": [
      "Epoch 1/1:  81%|████████████████████████████████████████████████████████             | 381/469 [03:37<00:48,  1.81it/s]"
     ]
    },
    {
     "name": "stdout",
     "output_type": "stream",
     "text": [
      "ErrD: 57740.07421875, ErrG: -52810.16796875\n"
     ]
    },
    {
     "name": "stderr",
     "output_type": "stream",
     "text": [
      "Epoch 1/1:  83%|█████████████████████████████████████████████████████████▌           | 391/469 [03:42<00:42,  1.82it/s]"
     ]
    },
    {
     "name": "stdout",
     "output_type": "stream",
     "text": [
      "ErrD: 51296.5859375, ErrG: -50589.75\n"
     ]
    },
    {
     "name": "stderr",
     "output_type": "stream",
     "text": [
      "Epoch 1/1:  86%|██████████████████████████████████████████████████████████▉          | 401/469 [03:48<00:39,  1.71it/s]"
     ]
    },
    {
     "name": "stdout",
     "output_type": "stream",
     "text": [
      "ErrD: 54483.43359375, ErrG: -52036.1171875\n"
     ]
    },
    {
     "name": "stderr",
     "output_type": "stream",
     "text": [
      "Epoch 1/1:  88%|████████████████████████████████████████████████████████████▍        | 411/469 [03:54<00:33,  1.75it/s]"
     ]
    },
    {
     "name": "stdout",
     "output_type": "stream",
     "text": [
      "ErrD: 67107.3984375, ErrG: -49746.46875\n"
     ]
    },
    {
     "name": "stderr",
     "output_type": "stream",
     "text": [
      "Epoch 1/1:  90%|█████████████████████████████████████████████████████████████▉       | 421/469 [03:59<00:27,  1.77it/s]"
     ]
    },
    {
     "name": "stdout",
     "output_type": "stream",
     "text": [
      "ErrD: 52614.71484375, ErrG: -44711.5234375\n"
     ]
    },
    {
     "name": "stderr",
     "output_type": "stream",
     "text": [
      "Epoch 1/1:  92%|███████████████████████████████████████████████████████████████▍     | 431/469 [04:05<00:20,  1.83it/s]"
     ]
    },
    {
     "name": "stdout",
     "output_type": "stream",
     "text": [
      "ErrD: 74149.609375, ErrG: -40620.1328125\n"
     ]
    },
    {
     "name": "stderr",
     "output_type": "stream",
     "text": [
      "Epoch 1/1:  94%|████████████████████████████████████████████████████████████████▉    | 441/469 [04:10<00:15,  1.76it/s]"
     ]
    },
    {
     "name": "stdout",
     "output_type": "stream",
     "text": [
      "ErrD: 34282.33203125, ErrG: -36028.59765625\n"
     ]
    },
    {
     "name": "stderr",
     "output_type": "stream",
     "text": [
      "Epoch 1/1:  96%|██████████████████████████████████████████████████████████████████▎  | 451/469 [04:16<00:10,  1.77it/s]"
     ]
    },
    {
     "name": "stdout",
     "output_type": "stream",
     "text": [
      "ErrD: 52516.5390625, ErrG: -28250.2890625\n"
     ]
    },
    {
     "name": "stderr",
     "output_type": "stream",
     "text": [
      "Epoch 1/1:  98%|███████████████████████████████████████████████████████████████████▊ | 461/469 [04:21<00:04,  1.86it/s]"
     ]
    },
    {
     "name": "stdout",
     "output_type": "stream",
     "text": [
      "ErrD: 39686.38671875, ErrG: -22636.392578125\n"
     ]
    },
    {
     "name": "stderr",
     "output_type": "stream",
     "text": [
      "Epoch 1/1: 100%|█████████████████████████████████████████████████████████████████████| 469/469 [04:26<00:00,  1.76it/s]\n"
     ]
    },
    {
     "name": "stdout",
     "output_type": "stream",
     "text": [
      "ErrD: 46414.61328125, ErrG: -14518.0146484375\n"
     ]
    },
    {
     "name": "stderr",
     "output_type": "stream",
     "text": [
      "Epoch 1/1:   0%|▏                                                                      | 1/469 [00:00<04:49,  1.61it/s]"
     ]
    },
    {
     "name": "stdout",
     "output_type": "stream",
     "text": [
      "ErrD: 1479.10888671875, ErrG: 13327.962890625\n"
     ]
    },
    {
     "name": "stderr",
     "output_type": "stream",
     "text": [
      "Epoch 1/1:   2%|█▋                                                                    | 11/469 [00:06<04:25,  1.73it/s]"
     ]
    },
    {
     "name": "stdout",
     "output_type": "stream",
     "text": [
      "ErrD: 10572.76171875, ErrG: 21949.31640625\n"
     ]
    },
    {
     "name": "stderr",
     "output_type": "stream",
     "text": [
      "Epoch 1/1:   4%|███▏                                                                  | 21/469 [00:12<04:19,  1.73it/s]"
     ]
    },
    {
     "name": "stdout",
     "output_type": "stream",
     "text": [
      "ErrD: -37119.2578125, ErrG: 162548.1875\n"
     ]
    },
    {
     "name": "stderr",
     "output_type": "stream",
     "text": [
      "Epoch 1/1:   7%|████▋                                                                 | 31/469 [00:18<04:11,  1.74it/s]"
     ]
    },
    {
     "name": "stdout",
     "output_type": "stream",
     "text": [
      "ErrD: 166872.328125, ErrG: 345835.5625\n"
     ]
    },
    {
     "name": "stderr",
     "output_type": "stream",
     "text": [
      "Epoch 1/1:   9%|██████                                                                | 41/469 [00:24<04:16,  1.67it/s]"
     ]
    },
    {
     "name": "stdout",
     "output_type": "stream",
     "text": [
      "ErrD: -137858.0625, ErrG: 591164.6875\n"
     ]
    },
    {
     "name": "stderr",
     "output_type": "stream",
     "text": [
      "Epoch 1/1:  11%|███████▌                                                              | 51/469 [00:29<04:03,  1.72it/s]"
     ]
    },
    {
     "name": "stdout",
     "output_type": "stream",
     "text": [
      "ErrD: -1024075.0, ErrG: 2698178.5\n"
     ]
    },
    {
     "name": "stderr",
     "output_type": "stream",
     "text": [
      "Epoch 1/1:  13%|█████████                                                             | 61/469 [00:35<03:53,  1.75it/s]"
     ]
    },
    {
     "name": "stdout",
     "output_type": "stream",
     "text": [
      "ErrD: 109125.75, ErrG: 2776336.0\n"
     ]
    },
    {
     "name": "stderr",
     "output_type": "stream",
     "text": [
      "Epoch 1/1:  15%|██████████▌                                                           | 71/469 [00:41<03:56,  1.68it/s]"
     ]
    },
    {
     "name": "stdout",
     "output_type": "stream",
     "text": [
      "ErrD: -477294.625, ErrG: 2506373.75\n"
     ]
    },
    {
     "name": "stderr",
     "output_type": "stream",
     "text": [
      "Epoch 1/1:  17%|████████████                                                          | 81/469 [00:47<03:45,  1.72it/s]"
     ]
    },
    {
     "name": "stdout",
     "output_type": "stream",
     "text": [
      "ErrD: 408393.8125, ErrG: 74853.1953125\n"
     ]
    },
    {
     "name": "stderr",
     "output_type": "stream",
     "text": [
      "Epoch 1/1:  19%|█████████████▌                                                        | 91/469 [00:53<03:40,  1.72it/s]"
     ]
    },
    {
     "name": "stdout",
     "output_type": "stream",
     "text": [
      "ErrD: -544564.5, ErrG: 2318217.0\n"
     ]
    },
    {
     "name": "stderr",
     "output_type": "stream",
     "text": [
      "Epoch 1/1:  22%|██████████████▊                                                      | 101/469 [00:59<03:36,  1.70it/s]"
     ]
    },
    {
     "name": "stdout",
     "output_type": "stream",
     "text": [
      "ErrD: 4233400.0, ErrG: 5014518.0\n"
     ]
    },
    {
     "name": "stderr",
     "output_type": "stream",
     "text": [
      "Epoch 1/1:  24%|████████████████▎                                                    | 111/469 [01:04<03:27,  1.72it/s]"
     ]
    },
    {
     "name": "stdout",
     "output_type": "stream",
     "text": [
      "ErrD: 380290.0, ErrG: 2081758.75\n"
     ]
    },
    {
     "name": "stderr",
     "output_type": "stream",
     "text": [
      "Epoch 1/1:  26%|█████████████████▊                                                   | 121/469 [01:10<03:26,  1.69it/s]"
     ]
    },
    {
     "name": "stdout",
     "output_type": "stream",
     "text": [
      "ErrD: -2396595.25, ErrG: 6537225.5\n"
     ]
    },
    {
     "name": "stderr",
     "output_type": "stream",
     "text": [
      "Epoch 1/1:  28%|███████████████████▎                                                 | 131/469 [01:16<03:18,  1.70it/s]"
     ]
    },
    {
     "name": "stdout",
     "output_type": "stream",
     "text": [
      "ErrD: -3639798.0, ErrG: 15851370.0\n"
     ]
    },
    {
     "name": "stderr",
     "output_type": "stream",
     "text": [
      "Epoch 1/1:  30%|████████████████████▋                                                | 141/469 [01:22<03:10,  1.72it/s]"
     ]
    },
    {
     "name": "stdout",
     "output_type": "stream",
     "text": [
      "ErrD: 2672642.0, ErrG: 16818184.0\n"
     ]
    },
    {
     "name": "stderr",
     "output_type": "stream",
     "text": [
      "Epoch 1/1:  32%|██████████████████████▏                                              | 151/469 [01:28<03:03,  1.74it/s]"
     ]
    },
    {
     "name": "stdout",
     "output_type": "stream",
     "text": [
      "ErrD: 5832737.5, ErrG: 7800272.5\n"
     ]
    },
    {
     "name": "stderr",
     "output_type": "stream",
     "text": [
      "Epoch 1/1:  34%|███████████████████████▋                                             | 161/469 [01:34<02:54,  1.76it/s]"
     ]
    },
    {
     "name": "stdout",
     "output_type": "stream",
     "text": [
      "ErrD: 9163012.0, ErrG: 4213179.0\n"
     ]
    },
    {
     "name": "stderr",
     "output_type": "stream",
     "text": [
      "Epoch 1/1:  36%|█████████████████████████▏                                           | 171/469 [01:39<02:58,  1.67it/s]"
     ]
    },
    {
     "name": "stdout",
     "output_type": "stream",
     "text": [
      "ErrD: -16654464.0, ErrG: 55574280.0\n"
     ]
    },
    {
     "name": "stderr",
     "output_type": "stream",
     "text": [
      "Epoch 1/1:  39%|██████████████████████████▋                                          | 181/469 [01:45<02:47,  1.72it/s]"
     ]
    },
    {
     "name": "stdout",
     "output_type": "stream",
     "text": [
      "ErrD: -4393622.0, ErrG: 17483146.0\n"
     ]
    },
    {
     "name": "stderr",
     "output_type": "stream",
     "text": [
      "Epoch 1/1:  41%|████████████████████████████                                         | 191/469 [01:51<02:40,  1.74it/s]"
     ]
    },
    {
     "name": "stdout",
     "output_type": "stream",
     "text": [
      "ErrD: -5837922.0, ErrG: 33743240.0\n"
     ]
    },
    {
     "name": "stderr",
     "output_type": "stream",
     "text": [
      "Epoch 1/1:  43%|█████████████████████████████▌                                       | 201/469 [01:57<02:39,  1.68it/s]"
     ]
    },
    {
     "name": "stdout",
     "output_type": "stream",
     "text": [
      "ErrD: -39172364.0, ErrG: 119282680.0\n"
     ]
    },
    {
     "name": "stderr",
     "output_type": "stream",
     "text": [
      "Epoch 1/1:  45%|███████████████████████████████                                      | 211/469 [02:03<02:31,  1.70it/s]"
     ]
    },
    {
     "name": "stdout",
     "output_type": "stream",
     "text": [
      "ErrD: -56946948.0, ErrG: 144977712.0\n"
     ]
    },
    {
     "name": "stderr",
     "output_type": "stream",
     "text": [
      "Epoch 1/1:  47%|████████████████████████████████▌                                    | 221/469 [02:09<02:22,  1.74it/s]"
     ]
    },
    {
     "name": "stdout",
     "output_type": "stream",
     "text": [
      "ErrD: -164422048.0, ErrG: 267066688.0\n"
     ]
    },
    {
     "name": "stderr",
     "output_type": "stream",
     "text": [
      "Epoch 1/1:  49%|█████████████████████████████████▉                                   | 231/469 [02:15<02:23,  1.66it/s]"
     ]
    },
    {
     "name": "stdout",
     "output_type": "stream",
     "text": [
      "ErrD: -370964032.0, ErrG: 732162304.0\n"
     ]
    },
    {
     "name": "stderr",
     "output_type": "stream",
     "text": [
      "Epoch 1/1:  51%|███████████████████████████████████▍                                 | 241/469 [02:21<02:15,  1.69it/s]"
     ]
    },
    {
     "name": "stdout",
     "output_type": "stream",
     "text": [
      "ErrD: -659795904.0, ErrG: 1702310144.0\n"
     ]
    },
    {
     "name": "stderr",
     "output_type": "stream",
     "text": [
      "Epoch 1/1:  54%|████████████████████████████████████▉                                | 251/469 [02:27<02:11,  1.66it/s]"
     ]
    },
    {
     "name": "stdout",
     "output_type": "stream",
     "text": [
      "ErrD: -115367040.0, ErrG: 1571091456.0\n"
     ]
    },
    {
     "name": "stderr",
     "output_type": "stream",
     "text": [
      "Epoch 1/1:  56%|██████████████████████████████████████▍                              | 261/469 [02:33<02:01,  1.71it/s]"
     ]
    },
    {
     "name": "stdout",
     "output_type": "stream",
     "text": [
      "ErrD: 1569837184.0, ErrG: 684796608.0\n"
     ]
    },
    {
     "name": "stderr",
     "output_type": "stream",
     "text": [
      "Epoch 1/1:  58%|███████████████████████████████████████▊                             | 271/469 [02:39<01:57,  1.68it/s]"
     ]
    },
    {
     "name": "stdout",
     "output_type": "stream",
     "text": [
      "ErrD: 2213738496.0, ErrG: 2255773952.0\n"
     ]
    },
    {
     "name": "stderr",
     "output_type": "stream",
     "text": [
      "Epoch 1/1:  60%|█████████████████████████████████████████▎                           | 281/469 [02:44<01:48,  1.73it/s]"
     ]
    },
    {
     "name": "stdout",
     "output_type": "stream",
     "text": [
      "ErrD: -1739801344.0, ErrG: 5033480704.0\n"
     ]
    },
    {
     "name": "stderr",
     "output_type": "stream",
     "text": [
      "Epoch 1/1:  62%|██████████████████████████████████████████▊                          | 291/469 [02:50<01:43,  1.71it/s]"
     ]
    },
    {
     "name": "stdout",
     "output_type": "stream",
     "text": [
      "ErrD: -36796243968.0, ErrG: 69185069056.0\n"
     ]
    },
    {
     "name": "stderr",
     "output_type": "stream",
     "text": [
      "Epoch 1/1:  64%|████████████████████████████████████████████▎                        | 301/469 [02:56<01:39,  1.69it/s]"
     ]
    },
    {
     "name": "stdout",
     "output_type": "stream",
     "text": [
      "ErrD: 48319033344.0, ErrG: 25082327040.0\n"
     ]
    },
    {
     "name": "stderr",
     "output_type": "stream",
     "text": [
      "Epoch 1/1:  66%|█████████████████████████████████████████████▊                       | 311/469 [03:02<01:39,  1.59it/s]"
     ]
    },
    {
     "name": "stdout",
     "output_type": "stream",
     "text": [
      "ErrD: 42227654656.0, ErrG: 23928684544.0\n"
     ]
    },
    {
     "name": "stderr",
     "output_type": "stream",
     "text": [
      "Epoch 1/1:  68%|███████████████████████████████████████████████▏                     | 321/469 [03:08<01:28,  1.68it/s]"
     ]
    },
    {
     "name": "stdout",
     "output_type": "stream",
     "text": [
      "ErrD: -15242387456.0, ErrG: 40820146176.0\n"
     ]
    },
    {
     "name": "stderr",
     "output_type": "stream",
     "text": [
      "Epoch 1/1:  71%|████████████████████████████████████████████████▋                    | 331/469 [03:14<01:21,  1.69it/s]"
     ]
    },
    {
     "name": "stdout",
     "output_type": "stream",
     "text": [
      "ErrD: -7025324544.0, ErrG: 14238560256.0\n"
     ]
    },
    {
     "name": "stderr",
     "output_type": "stream",
     "text": [
      "Epoch 1/1:  73%|██████████████████████████████████████████████████▏                  | 341/469 [03:20<01:16,  1.68it/s]"
     ]
    },
    {
     "name": "stdout",
     "output_type": "stream",
     "text": [
      "ErrD: -9473056768.0, ErrG: 11709442048.0\n"
     ]
    },
    {
     "name": "stderr",
     "output_type": "stream",
     "text": [
      "Epoch 1/1:  75%|███████████████████████████████████████████████████▋                 | 351/469 [03:26<01:09,  1.70it/s]"
     ]
    },
    {
     "name": "stdout",
     "output_type": "stream",
     "text": [
      "ErrD: -9248387072.0, ErrG: 226043344.0\n"
     ]
    },
    {
     "name": "stderr",
     "output_type": "stream",
     "text": [
      "Epoch 1/1:  77%|█████████████████████████████████████████████████████                | 361/469 [03:32<01:03,  1.70it/s]"
     ]
    },
    {
     "name": "stdout",
     "output_type": "stream",
     "text": [
      "ErrD: -23295391744.0, ErrG: 5646553088.0\n"
     ]
    },
    {
     "name": "stderr",
     "output_type": "stream",
     "text": [
      "Epoch 1/1:  79%|██████████████████████████████████████████████████████▌              | 371/469 [03:38<00:57,  1.69it/s]"
     ]
    },
    {
     "name": "stdout",
     "output_type": "stream",
     "text": [
      "ErrD: 102538649600.0, ErrG: -110360166400.0\n"
     ]
    },
    {
     "name": "stderr",
     "output_type": "stream",
     "text": [
      "Epoch 1/1:  81%|████████████████████████████████████████████████████████             | 381/469 [03:43<00:51,  1.71it/s]"
     ]
    },
    {
     "name": "stdout",
     "output_type": "stream",
     "text": [
      "ErrD: 3092875313152.0, ErrG: -1521108385792.0\n"
     ]
    },
    {
     "name": "stderr",
     "output_type": "stream",
     "text": [
      "Epoch 1/1:  83%|█████████████████████████████████████████████████████████▌           | 391/469 [03:49<00:45,  1.72it/s]"
     ]
    },
    {
     "name": "stdout",
     "output_type": "stream",
     "text": [
      "ErrD: -1457750278144.0, ErrG: 3585501822976.0\n"
     ]
    },
    {
     "name": "stderr",
     "output_type": "stream",
     "text": [
      "Epoch 1/1:  86%|██████████████████████████████████████████████████████████▉          | 401/469 [03:55<00:40,  1.67it/s]"
     ]
    },
    {
     "name": "stdout",
     "output_type": "stream",
     "text": [
      "ErrD: -1803970412544.0, ErrG: 2458451968000.0\n"
     ]
    },
    {
     "name": "stderr",
     "output_type": "stream",
     "text": [
      "Epoch 1/1:  88%|████████████████████████████████████████████████████████████▍        | 411/469 [04:01<00:34,  1.68it/s]"
     ]
    },
    {
     "name": "stdout",
     "output_type": "stream",
     "text": [
      "ErrD: -6069796864.0, ErrG: 220465364992.0\n"
     ]
    },
    {
     "name": "stderr",
     "output_type": "stream",
     "text": [
      "Epoch 1/1:  90%|█████████████████████████████████████████████████████████████▉       | 421/469 [04:07<00:28,  1.70it/s]"
     ]
    },
    {
     "name": "stdout",
     "output_type": "stream",
     "text": [
      "ErrD: 118038609920.0, ErrG: 113366663168.0\n"
     ]
    },
    {
     "name": "stderr",
     "output_type": "stream",
     "text": [
      "Epoch 1/1:  92%|███████████████████████████████████████████████████████████████▍     | 431/469 [04:13<00:22,  1.71it/s]"
     ]
    },
    {
     "name": "stdout",
     "output_type": "stream",
     "text": [
      "ErrD: 222935908352.0, ErrG: 32338636800.0\n"
     ]
    },
    {
     "name": "stderr",
     "output_type": "stream",
     "text": [
      "Epoch 1/1:  94%|████████████████████████████████████████████████████████████████▉    | 441/469 [04:19<00:16,  1.67it/s]"
     ]
    },
    {
     "name": "stdout",
     "output_type": "stream",
     "text": [
      "ErrD: 166601965568.0, ErrG: 13971243008.0\n"
     ]
    },
    {
     "name": "stderr",
     "output_type": "stream",
     "text": [
      "Epoch 1/1:  96%|██████████████████████████████████████████████████████████████████▎  | 451/469 [04:25<00:10,  1.65it/s]"
     ]
    },
    {
     "name": "stdout",
     "output_type": "stream",
     "text": [
      "ErrD: 208476766208.0, ErrG: 2713755136.0\n"
     ]
    },
    {
     "name": "stderr",
     "output_type": "stream",
     "text": [
      "Epoch 1/1:  98%|███████████████████████████████████████████████████████████████████▊ | 461/469 [04:31<00:04,  1.72it/s]"
     ]
    },
    {
     "name": "stdout",
     "output_type": "stream",
     "text": [
      "ErrD: 188567683072.0, ErrG: -1009497344.0\n"
     ]
    },
    {
     "name": "stderr",
     "output_type": "stream",
     "text": [
      "Epoch 1/1: 100%|█████████████████████████████████████████████████████████████████████| 469/469 [04:36<00:00,  1.70it/s]\n"
     ]
    },
    {
     "name": "stdout",
     "output_type": "stream",
     "text": [
      "ErrD: 170156703744.0, ErrG: -1966457600.0\n"
     ]
    },
    {
     "name": "stderr",
     "output_type": "stream",
     "text": [
      "Epoch 1/1:   0%|▏                                                                      | 1/469 [00:00<04:47,  1.63it/s]"
     ]
    },
    {
     "name": "stdout",
     "output_type": "stream",
     "text": [
      "ErrD: 189070131200.0, ErrG: -5529555968.0\n"
     ]
    },
    {
     "name": "stderr",
     "output_type": "stream",
     "text": [
      "Epoch 1/1:   2%|█▋                                                                    | 11/469 [00:06<04:23,  1.74it/s]"
     ]
    },
    {
     "name": "stdout",
     "output_type": "stream",
     "text": [
      "ErrD: 150806200320.0, ErrG: -3617463552.0\n"
     ]
    },
    {
     "name": "stderr",
     "output_type": "stream",
     "text": [
      "Epoch 1/1:   4%|███▏                                                                  | 21/469 [00:12<04:20,  1.72it/s]"
     ]
    },
    {
     "name": "stdout",
     "output_type": "stream",
     "text": [
      "ErrD: 146772180992.0, ErrG: -5029088256.0\n"
     ]
    },
    {
     "name": "stderr",
     "output_type": "stream",
     "text": [
      "Epoch 1/1:   7%|████▋                                                                 | 31/469 [00:17<04:10,  1.75it/s]"
     ]
    },
    {
     "name": "stdout",
     "output_type": "stream",
     "text": [
      "ErrD: 99768328192.0, ErrG: -7193302016.0\n"
     ]
    },
    {
     "name": "stderr",
     "output_type": "stream",
     "text": [
      "Epoch 1/1:   9%|██████                                                                | 41/469 [00:23<04:02,  1.76it/s]"
     ]
    },
    {
     "name": "stdout",
     "output_type": "stream",
     "text": [
      "ErrD: 90320658432.0, ErrG: -4437000704.0\n"
     ]
    },
    {
     "name": "stderr",
     "output_type": "stream",
     "text": [
      "Epoch 1/1:  11%|███████▌                                                              | 51/469 [00:29<03:58,  1.75it/s]"
     ]
    },
    {
     "name": "stdout",
     "output_type": "stream",
     "text": [
      "ErrD: 97176076288.0, ErrG: -8333928960.0\n"
     ]
    },
    {
     "name": "stderr",
     "output_type": "stream",
     "text": [
      "Epoch 1/1:  13%|█████████                                                             | 61/469 [00:35<04:01,  1.69it/s]"
     ]
    },
    {
     "name": "stdout",
     "output_type": "stream",
     "text": [
      "ErrD: 85598568448.0, ErrG: -7338415104.0\n"
     ]
    },
    {
     "name": "stderr",
     "output_type": "stream",
     "text": [
      "Epoch 1/1:  15%|██████████▌                                                           | 71/469 [00:41<03:58,  1.67it/s]"
     ]
    },
    {
     "name": "stdout",
     "output_type": "stream",
     "text": [
      "ErrD: 90518257664.0, ErrG: -8909805568.0\n"
     ]
    },
    {
     "name": "stderr",
     "output_type": "stream",
     "text": [
      "Epoch 1/1:  17%|████████████                                                          | 81/469 [00:47<03:51,  1.68it/s]"
     ]
    },
    {
     "name": "stdout",
     "output_type": "stream",
     "text": [
      "ErrD: 58968449024.0, ErrG: -9396705280.0\n"
     ]
    },
    {
     "name": "stderr",
     "output_type": "stream",
     "text": [
      "Epoch 1/1:  19%|█████████████▌                                                        | 91/469 [00:53<03:46,  1.67it/s]"
     ]
    },
    {
     "name": "stdout",
     "output_type": "stream",
     "text": [
      "ErrD: 66854502400.0, ErrG: -9843326976.0\n"
     ]
    },
    {
     "name": "stderr",
     "output_type": "stream",
     "text": [
      "Epoch 1/1:  22%|██████████████▊                                                      | 101/469 [00:59<03:38,  1.68it/s]"
     ]
    },
    {
     "name": "stdout",
     "output_type": "stream",
     "text": [
      "ErrD: 49237262336.0, ErrG: -12429099008.0\n"
     ]
    },
    {
     "name": "stderr",
     "output_type": "stream",
     "text": [
      "Epoch 1/1:  24%|████████████████▎                                                    | 111/469 [01:05<03:36,  1.66it/s]"
     ]
    },
    {
     "name": "stdout",
     "output_type": "stream",
     "text": [
      "ErrD: 62306480128.0, ErrG: -11335341056.0\n"
     ]
    },
    {
     "name": "stderr",
     "output_type": "stream",
     "text": [
      "Epoch 1/1:  26%|█████████████████▊                                                   | 121/469 [01:11<03:32,  1.64it/s]"
     ]
    },
    {
     "name": "stdout",
     "output_type": "stream",
     "text": [
      "ErrD: 36014366720.0, ErrG: -14626584576.0\n"
     ]
    },
    {
     "name": "stderr",
     "output_type": "stream",
     "text": [
      "Epoch 1/1:  28%|███████████████████▎                                                 | 131/469 [01:16<03:17,  1.71it/s]"
     ]
    },
    {
     "name": "stdout",
     "output_type": "stream",
     "text": [
      "ErrD: 48641712128.0, ErrG: -15148071936.0\n"
     ]
    },
    {
     "name": "stderr",
     "output_type": "stream",
     "text": [
      "Epoch 1/1:  30%|████████████████████▋                                                | 141/469 [01:22<03:18,  1.65it/s]"
     ]
    },
    {
     "name": "stdout",
     "output_type": "stream",
     "text": [
      "ErrD: 66802839552.0, ErrG: -14953189376.0\n"
     ]
    },
    {
     "name": "stderr",
     "output_type": "stream",
     "text": [
      "Epoch 1/1:  32%|██████████████████████▏                                              | 151/469 [01:28<03:02,  1.74it/s]"
     ]
    },
    {
     "name": "stdout",
     "output_type": "stream",
     "text": [
      "ErrD: 55778320384.0, ErrG: -18656049152.0\n"
     ]
    },
    {
     "name": "stderr",
     "output_type": "stream",
     "text": [
      "Epoch 1/1:  34%|███████████████████████▋                                             | 161/469 [01:34<03:01,  1.70it/s]"
     ]
    },
    {
     "name": "stdout",
     "output_type": "stream",
     "text": [
      "ErrD: 53427646464.0, ErrG: -21558171648.0\n"
     ]
    },
    {
     "name": "stderr",
     "output_type": "stream",
     "text": [
      "Epoch 1/1:  36%|█████████████████████████▏                                           | 171/469 [01:40<02:57,  1.68it/s]"
     ]
    },
    {
     "name": "stdout",
     "output_type": "stream",
     "text": [
      "ErrD: 53778169856.0, ErrG: -25402044416.0\n"
     ]
    },
    {
     "name": "stderr",
     "output_type": "stream",
     "text": [
      "Epoch 1/1:  39%|██████████████████████████▋                                          | 181/469 [01:46<02:53,  1.66it/s]"
     ]
    },
    {
     "name": "stdout",
     "output_type": "stream",
     "text": [
      "ErrD: 43521761280.0, ErrG: -24759791616.0\n"
     ]
    },
    {
     "name": "stderr",
     "output_type": "stream",
     "text": [
      "Epoch 1/1:  41%|████████████████████████████                                         | 191/469 [01:52<02:45,  1.68it/s]"
     ]
    },
    {
     "name": "stdout",
     "output_type": "stream",
     "text": [
      "ErrD: 50861015040.0, ErrG: -27044585472.0\n"
     ]
    },
    {
     "name": "stderr",
     "output_type": "stream",
     "text": [
      "Epoch 1/1:  43%|█████████████████████████████▌                                       | 201/469 [01:58<02:38,  1.69it/s]"
     ]
    },
    {
     "name": "stdout",
     "output_type": "stream",
     "text": [
      "ErrD: 58005405696.0, ErrG: -28890490880.0\n"
     ]
    },
    {
     "name": "stderr",
     "output_type": "stream",
     "text": [
      "Epoch 1/1:  45%|███████████████████████████████                                      | 211/469 [02:04<02:30,  1.71it/s]"
     ]
    },
    {
     "name": "stdout",
     "output_type": "stream",
     "text": [
      "ErrD: 64003256320.0, ErrG: -35757060096.0\n"
     ]
    },
    {
     "name": "stderr",
     "output_type": "stream",
     "text": [
      "Epoch 1/1:  47%|████████████████████████████████▌                                    | 221/469 [02:10<02:25,  1.71it/s]"
     ]
    },
    {
     "name": "stdout",
     "output_type": "stream",
     "text": [
      "ErrD: 56223383552.0, ErrG: -35027435520.0\n"
     ]
    },
    {
     "name": "stderr",
     "output_type": "stream",
     "text": [
      "Epoch 1/1:  49%|█████████████████████████████████▉                                   | 231/469 [02:16<02:21,  1.68it/s]"
     ]
    },
    {
     "name": "stdout",
     "output_type": "stream",
     "text": [
      "ErrD: 75907710976.0, ErrG: -43672043520.0\n"
     ]
    },
    {
     "name": "stderr",
     "output_type": "stream",
     "text": [
      "Epoch 1/1:  51%|███████████████████████████████████▍                                 | 241/469 [02:22<02:15,  1.69it/s]"
     ]
    },
    {
     "name": "stdout",
     "output_type": "stream",
     "text": [
      "ErrD: 71363141632.0, ErrG: -42330152960.0\n"
     ]
    },
    {
     "name": "stderr",
     "output_type": "stream",
     "text": [
      "Epoch 1/1:  54%|████████████████████████████████████▉                                | 251/469 [02:28<02:06,  1.72it/s]"
     ]
    },
    {
     "name": "stdout",
     "output_type": "stream",
     "text": [
      "ErrD: 67813523456.0, ErrG: -46752677888.0\n"
     ]
    },
    {
     "name": "stderr",
     "output_type": "stream",
     "text": [
      "Epoch 1/1:  56%|██████████████████████████████████████▍                              | 261/469 [02:33<02:02,  1.69it/s]"
     ]
    },
    {
     "name": "stdout",
     "output_type": "stream",
     "text": [
      "ErrD: 68368793600.0, ErrG: -48961691648.0\n"
     ]
    },
    {
     "name": "stderr",
     "output_type": "stream",
     "text": [
      "Epoch 1/1:  58%|███████████████████████████████████████▊                             | 271/469 [02:39<01:55,  1.71it/s]"
     ]
    },
    {
     "name": "stdout",
     "output_type": "stream",
     "text": [
      "ErrD: 75031314432.0, ErrG: -53843693568.0\n"
     ]
    },
    {
     "name": "stderr",
     "output_type": "stream",
     "text": [
      "Epoch 1/1:  60%|█████████████████████████████████████████▎                           | 281/469 [02:45<01:49,  1.72it/s]"
     ]
    },
    {
     "name": "stdout",
     "output_type": "stream",
     "text": [
      "ErrD: 66280640512.0, ErrG: -44902236160.0\n"
     ]
    },
    {
     "name": "stderr",
     "output_type": "stream",
     "text": [
      "Epoch 1/1:  62%|██████████████████████████████████████████▊                          | 291/469 [02:51<01:42,  1.74it/s]"
     ]
    },
    {
     "name": "stdout",
     "output_type": "stream",
     "text": [
      "ErrD: 55292125184.0, ErrG: -33456738304.0\n"
     ]
    },
    {
     "name": "stderr",
     "output_type": "stream",
     "text": [
      "Epoch 1/1:  64%|████████████████████████████████████████████▎                        | 301/469 [02:57<01:35,  1.75it/s]"
     ]
    },
    {
     "name": "stdout",
     "output_type": "stream",
     "text": [
      "ErrD: 44553576448.0, ErrG: -17439830016.0\n"
     ]
    },
    {
     "name": "stderr",
     "output_type": "stream",
     "text": [
      "Epoch 1/1:  66%|█████████████████████████████████████████████▊                       | 311/469 [03:02<01:30,  1.75it/s]"
     ]
    },
    {
     "name": "stdout",
     "output_type": "stream",
     "text": [
      "ErrD: 28605368320.0, ErrG: -6879337984.0\n"
     ]
    },
    {
     "name": "stderr",
     "output_type": "stream",
     "text": [
      "Epoch 1/1:  68%|███████████████████████████████████████████████▏                     | 321/469 [03:08<01:24,  1.75it/s]"
     ]
    },
    {
     "name": "stdout",
     "output_type": "stream",
     "text": [
      "ErrD: 25285697536.0, ErrG: -2073440256.0\n"
     ]
    },
    {
     "name": "stderr",
     "output_type": "stream",
     "text": [
      "Epoch 1/1:  71%|████████████████████████████████████████████████▋                    | 331/469 [03:14<01:18,  1.75it/s]"
     ]
    },
    {
     "name": "stdout",
     "output_type": "stream",
     "text": [
      "ErrD: 18407585792.0, ErrG: 3666984448.0\n"
     ]
    },
    {
     "name": "stderr",
     "output_type": "stream",
     "text": [
      "Epoch 1/1:  73%|██████████████████████████████████████████████████▏                  | 341/469 [03:19<01:12,  1.76it/s]"
     ]
    },
    {
     "name": "stdout",
     "output_type": "stream",
     "text": [
      "ErrD: 10545901568.0, ErrG: 6451450880.0\n"
     ]
    },
    {
     "name": "stderr",
     "output_type": "stream",
     "text": [
      "Epoch 1/1:  75%|███████████████████████████████████████████████████▋                 | 351/469 [03:25<01:07,  1.74it/s]"
     ]
    },
    {
     "name": "stdout",
     "output_type": "stream",
     "text": [
      "ErrD: 15102898176.0, ErrG: 3106663936.0\n"
     ]
    },
    {
     "name": "stderr",
     "output_type": "stream",
     "text": [
      "Epoch 1/1:  77%|█████████████████████████████████████████████████████                | 361/469 [03:31<01:01,  1.76it/s]"
     ]
    },
    {
     "name": "stdout",
     "output_type": "stream",
     "text": [
      "ErrD: 17992462336.0, ErrG: 1888610432.0\n"
     ]
    },
    {
     "name": "stderr",
     "output_type": "stream",
     "text": [
      "Epoch 1/1:  79%|██████████████████████████████████████████████████████▌              | 371/469 [03:37<00:56,  1.73it/s]"
     ]
    },
    {
     "name": "stdout",
     "output_type": "stream",
     "text": [
      "ErrD: 25123743744.0, ErrG: -9745659904.0\n"
     ]
    },
    {
     "name": "stderr",
     "output_type": "stream",
     "text": [
      "Epoch 1/1:  81%|████████████████████████████████████████████████████████             | 381/469 [03:43<00:51,  1.72it/s]"
     ]
    },
    {
     "name": "stdout",
     "output_type": "stream",
     "text": [
      "ErrD: 24511268864.0, ErrG: -8751078400.0\n"
     ]
    },
    {
     "name": "stderr",
     "output_type": "stream",
     "text": [
      "Epoch 1/1:  83%|█████████████████████████████████████████████████████████▌           | 391/469 [03:49<00:46,  1.67it/s]"
     ]
    },
    {
     "name": "stdout",
     "output_type": "stream",
     "text": [
      "ErrD: 25692108800.0, ErrG: -8599393280.0\n"
     ]
    },
    {
     "name": "stderr",
     "output_type": "stream",
     "text": [
      "Epoch 1/1:  86%|██████████████████████████████████████████████████████████▉          | 401/469 [03:54<00:38,  1.75it/s]"
     ]
    },
    {
     "name": "stdout",
     "output_type": "stream",
     "text": [
      "ErrD: 21493932032.0, ErrG: -9666418688.0\n"
     ]
    },
    {
     "name": "stderr",
     "output_type": "stream",
     "text": [
      "Epoch 1/1:  88%|████████████████████████████████████████████████████████████▍        | 411/469 [04:00<00:33,  1.72it/s]"
     ]
    },
    {
     "name": "stdout",
     "output_type": "stream",
     "text": [
      "ErrD: 17856032768.0, ErrG: -6376594944.0\n"
     ]
    },
    {
     "name": "stderr",
     "output_type": "stream",
     "text": [
      "Epoch 1/1:  90%|█████████████████████████████████████████████████████████████▉       | 421/469 [04:06<00:26,  1.80it/s]"
     ]
    },
    {
     "name": "stdout",
     "output_type": "stream",
     "text": [
      "ErrD: 15444936704.0, ErrG: -4310029312.0\n"
     ]
    },
    {
     "name": "stderr",
     "output_type": "stream",
     "text": [
      "Epoch 1/1:  92%|███████████████████████████████████████████████████████████████▍     | 431/469 [04:12<00:21,  1.73it/s]"
     ]
    },
    {
     "name": "stdout",
     "output_type": "stream",
     "text": [
      "ErrD: 15231751168.0, ErrG: -3777161472.0\n"
     ]
    },
    {
     "name": "stderr",
     "output_type": "stream",
     "text": [
      "Epoch 1/1:  94%|████████████████████████████████████████████████████████████████▉    | 441/469 [04:18<00:16,  1.67it/s]"
     ]
    },
    {
     "name": "stdout",
     "output_type": "stream",
     "text": [
      "ErrD: 10264680448.0, ErrG: -3346860800.0\n"
     ]
    },
    {
     "name": "stderr",
     "output_type": "stream",
     "text": [
      "Epoch 1/1:  96%|██████████████████████████████████████████████████████████████████▎  | 451/469 [04:23<00:10,  1.67it/s]"
     ]
    },
    {
     "name": "stdout",
     "output_type": "stream",
     "text": [
      "ErrD: 11213821952.0, ErrG: -814224768.0\n"
     ]
    },
    {
     "name": "stderr",
     "output_type": "stream",
     "text": [
      "Epoch 1/1:  98%|███████████████████████████████████████████████████████████████████▊ | 461/469 [04:29<00:04,  1.72it/s]"
     ]
    },
    {
     "name": "stdout",
     "output_type": "stream",
     "text": [
      "ErrD: 9053918208.0, ErrG: -1359638016.0\n"
     ]
    },
    {
     "name": "stderr",
     "output_type": "stream",
     "text": [
      "Epoch 1/1: 100%|█████████████████████████████████████████████████████████████████████| 469/469 [04:34<00:00,  1.71it/s]\n"
     ]
    },
    {
     "name": "stdout",
     "output_type": "stream",
     "text": [
      "ErrD: 7598392320.0, ErrG: -963965440.0\n"
     ]
    },
    {
     "name": "stderr",
     "output_type": "stream",
     "text": [
      "Epoch 1/1:   0%|▏                                                                      | 1/469 [00:00<05:13,  1.49it/s]"
     ]
    },
    {
     "name": "stdout",
     "output_type": "stream",
     "text": [
      "ErrD: -37519212.0, ErrG: 81202768.0\n"
     ]
    },
    {
     "name": "stderr",
     "output_type": "stream",
     "text": [
      "Epoch 1/1:   2%|█▋                                                                    | 11/469 [00:06<04:47,  1.60it/s]"
     ]
    },
    {
     "name": "stdout",
     "output_type": "stream",
     "text": [
      "ErrD: 11883488.0, ErrG: 97741968.0\n"
     ]
    },
    {
     "name": "stderr",
     "output_type": "stream",
     "text": [
      "Epoch 1/1:   4%|███▏                                                                  | 21/469 [00:13<04:35,  1.62it/s]"
     ]
    },
    {
     "name": "stdout",
     "output_type": "stream",
     "text": [
      "ErrD: 37226784.0, ErrG: 127661176.0\n"
     ]
    },
    {
     "name": "stderr",
     "output_type": "stream",
     "text": [
      "Epoch 1/1:   7%|████▋                                                                 | 31/469 [00:19<04:29,  1.63it/s]"
     ]
    },
    {
     "name": "stdout",
     "output_type": "stream",
     "text": [
      "ErrD: 9670000.0, ErrG: 73666440.0\n"
     ]
    },
    {
     "name": "stderr",
     "output_type": "stream",
     "text": [
      "Epoch 1/1:   9%|██████                                                                | 41/469 [00:25<04:21,  1.64it/s]"
     ]
    },
    {
     "name": "stdout",
     "output_type": "stream",
     "text": [
      "ErrD: -895535.5, ErrG: -8266923.0\n"
     ]
    },
    {
     "name": "stderr",
     "output_type": "stream",
     "text": [
      "Epoch 1/1:  11%|███████▌                                                              | 51/469 [00:31<04:17,  1.62it/s]"
     ]
    },
    {
     "name": "stdout",
     "output_type": "stream",
     "text": [
      "ErrD: -2923760.0, ErrG: -23000942.0\n"
     ]
    },
    {
     "name": "stderr",
     "output_type": "stream",
     "text": [
      "Epoch 1/1:  13%|█████████                                                             | 61/469 [00:37<04:10,  1.63it/s]"
     ]
    },
    {
     "name": "stdout",
     "output_type": "stream",
     "text": [
      "ErrD: -26272368.0, ErrG: -43790220.0\n"
     ]
    },
    {
     "name": "stderr",
     "output_type": "stream",
     "text": [
      "Epoch 1/1:  15%|██████████▌                                                           | 71/469 [00:43<04:05,  1.62it/s]"
     ]
    },
    {
     "name": "stdout",
     "output_type": "stream",
     "text": [
      "ErrD: 3392328704.0, ErrG: -988164032.0\n"
     ]
    },
    {
     "name": "stderr",
     "output_type": "stream",
     "text": [
      "Epoch 1/1:  17%|████████████                                                          | 81/469 [00:50<03:58,  1.62it/s]"
     ]
    },
    {
     "name": "stdout",
     "output_type": "stream",
     "text": [
      "ErrD: 2439164928.0, ErrG: 705459968.0\n"
     ]
    },
    {
     "name": "stderr",
     "output_type": "stream",
     "text": [
      "Epoch 1/1:  19%|█████████████▌                                                        | 91/469 [00:56<03:52,  1.63it/s]"
     ]
    },
    {
     "name": "stdout",
     "output_type": "stream",
     "text": [
      "ErrD: -3223942144.0, ErrG: 7600739328.0\n"
     ]
    },
    {
     "name": "stderr",
     "output_type": "stream",
     "text": [
      "Epoch 1/1:  22%|██████████████▊                                                      | 101/469 [01:02<03:47,  1.62it/s]"
     ]
    },
    {
     "name": "stdout",
     "output_type": "stream",
     "text": [
      "ErrD: -5798561792.0, ErrG: 28439531520.0\n"
     ]
    },
    {
     "name": "stderr",
     "output_type": "stream",
     "text": [
      "Epoch 1/1:  24%|████████████████▎                                                    | 111/469 [01:08<03:28,  1.72it/s]"
     ]
    },
    {
     "name": "stdout",
     "output_type": "stream",
     "text": [
      "ErrD: 22757257216.0, ErrG: 2230216448.0\n"
     ]
    },
    {
     "name": "stderr",
     "output_type": "stream",
     "text": [
      "Epoch 1/1:  26%|█████████████████▊                                                   | 121/469 [01:14<03:33,  1.63it/s]"
     ]
    },
    {
     "name": "stdout",
     "output_type": "stream",
     "text": [
      "ErrD: 2816906240.0, ErrG: 3106423552.0\n"
     ]
    },
    {
     "name": "stderr",
     "output_type": "stream",
     "text": [
      "Epoch 1/1:  28%|███████████████████▎                                                 | 131/469 [01:20<03:34,  1.58it/s]"
     ]
    },
    {
     "name": "stdout",
     "output_type": "stream",
     "text": [
      "ErrD: 2120084864.0, ErrG: 692289792.0\n"
     ]
    },
    {
     "name": "stderr",
     "output_type": "stream",
     "text": [
      "Epoch 1/1:  30%|████████████████████▋                                                | 141/469 [01:26<03:25,  1.59it/s]"
     ]
    },
    {
     "name": "stdout",
     "output_type": "stream",
     "text": [
      "ErrD: 790639040.0, ErrG: 400727136.0\n"
     ]
    },
    {
     "name": "stderr",
     "output_type": "stream",
     "text": [
      "Epoch 1/1:  32%|██████████████████████▏                                              | 151/469 [01:32<03:06,  1.71it/s]"
     ]
    },
    {
     "name": "stdout",
     "output_type": "stream",
     "text": [
      "ErrD: -69009120.0, ErrG: 471405376.0\n"
     ]
    },
    {
     "name": "stderr",
     "output_type": "stream",
     "text": [
      "Epoch 1/1:  34%|███████████████████████▋                                             | 161/469 [01:38<03:08,  1.63it/s]"
     ]
    },
    {
     "name": "stdout",
     "output_type": "stream",
     "text": [
      "ErrD: 88421600.0, ErrG: 157317664.0\n"
     ]
    },
    {
     "name": "stderr",
     "output_type": "stream",
     "text": [
      "Epoch 1/1:  36%|█████████████████████████▏                                           | 171/469 [01:45<03:02,  1.63it/s]"
     ]
    },
    {
     "name": "stdout",
     "output_type": "stream",
     "text": [
      "ErrD: -292194656.0, ErrG: 609804160.0\n"
     ]
    },
    {
     "name": "stderr",
     "output_type": "stream",
     "text": [
      "Epoch 1/1:  39%|██████████████████████████▋                                          | 181/469 [01:51<02:58,  1.61it/s]"
     ]
    },
    {
     "name": "stdout",
     "output_type": "stream",
     "text": [
      "ErrD: -81029728.0, ErrG: 374871680.0\n"
     ]
    },
    {
     "name": "stderr",
     "output_type": "stream",
     "text": [
      "Epoch 1/1:  41%|████████████████████████████                                         | 191/469 [01:57<02:48,  1.65it/s]"
     ]
    },
    {
     "name": "stdout",
     "output_type": "stream",
     "text": [
      "ErrD: -643508672.0, ErrG: 957176320.0\n"
     ]
    },
    {
     "name": "stderr",
     "output_type": "stream",
     "text": [
      "Epoch 1/1:  43%|█████████████████████████████▌                                       | 201/469 [02:03<02:38,  1.69it/s]"
     ]
    },
    {
     "name": "stdout",
     "output_type": "stream",
     "text": [
      "ErrD: -95292416.0, ErrG: 1529968384.0\n"
     ]
    },
    {
     "name": "stderr",
     "output_type": "stream",
     "text": [
      "Epoch 1/1:  45%|███████████████████████████████                                      | 211/469 [02:09<02:32,  1.69it/s]"
     ]
    },
    {
     "name": "stdout",
     "output_type": "stream",
     "text": [
      "ErrD: -2498590464.0, ErrG: 3578398464.0\n"
     ]
    },
    {
     "name": "stderr",
     "output_type": "stream",
     "text": [
      "Epoch 1/1:  47%|████████████████████████████████▌                                    | 221/469 [02:15<02:28,  1.67it/s]"
     ]
    },
    {
     "name": "stdout",
     "output_type": "stream",
     "text": [
      "ErrD: -11477923840.0, ErrG: 22106140672.0\n"
     ]
    },
    {
     "name": "stderr",
     "output_type": "stream",
     "text": [
      "Epoch 1/1:  49%|█████████████████████████████████▉                                   | 231/469 [02:21<02:21,  1.68it/s]"
     ]
    },
    {
     "name": "stdout",
     "output_type": "stream",
     "text": [
      "ErrD: -144416112640.0, ErrG: 277564391424.0\n"
     ]
    },
    {
     "name": "stderr",
     "output_type": "stream",
     "text": [
      "Epoch 1/1:  51%|███████████████████████████████████▍                                 | 241/469 [02:27<02:13,  1.70it/s]"
     ]
    },
    {
     "name": "stdout",
     "output_type": "stream",
     "text": [
      "ErrD: 91752800256.0, ErrG: 229677711360.0\n"
     ]
    },
    {
     "name": "stderr",
     "output_type": "stream",
     "text": [
      "Epoch 1/1:  54%|████████████████████████████████████▉                                | 251/469 [02:32<02:07,  1.71it/s]"
     ]
    },
    {
     "name": "stdout",
     "output_type": "stream",
     "text": [
      "ErrD: 61454606336.0, ErrG: 60566962176.0\n"
     ]
    },
    {
     "name": "stderr",
     "output_type": "stream",
     "text": [
      "Epoch 1/1:  56%|██████████████████████████████████████▍                              | 261/469 [02:38<02:07,  1.63it/s]"
     ]
    },
    {
     "name": "stdout",
     "output_type": "stream",
     "text": [
      "ErrD: -75745394688.0, ErrG: 121308561408.0\n"
     ]
    },
    {
     "name": "stderr",
     "output_type": "stream",
     "text": [
      "Epoch 1/1:  58%|███████████████████████████████████████▊                             | 271/469 [02:45<02:00,  1.64it/s]"
     ]
    },
    {
     "name": "stdout",
     "output_type": "stream",
     "text": [
      "ErrD: -304539959296.0, ErrG: 578736226304.0\n"
     ]
    },
    {
     "name": "stderr",
     "output_type": "stream",
     "text": [
      "Epoch 1/1:  60%|█████████████████████████████████████████▎                           | 281/469 [02:51<01:54,  1.64it/s]"
     ]
    },
    {
     "name": "stdout",
     "output_type": "stream",
     "text": [
      "ErrD: -1144618221568.0, ErrG: 1521068015616.0\n"
     ]
    },
    {
     "name": "stderr",
     "output_type": "stream",
     "text": [
      "Epoch 1/1:  62%|██████████████████████████████████████████▊                          | 291/469 [02:57<01:46,  1.68it/s]"
     ]
    },
    {
     "name": "stdout",
     "output_type": "stream",
     "text": [
      "ErrD: -4375970578432.0, ErrG: 3352387649536.0\n"
     ]
    },
    {
     "name": "stderr",
     "output_type": "stream",
     "text": [
      "Epoch 1/1:  64%|████████████████████████████████████████████▎                        | 301/469 [03:03<01:40,  1.67it/s]"
     ]
    },
    {
     "name": "stdout",
     "output_type": "stream",
     "text": [
      "ErrD: 5010402010202112.0, ErrG: -3472346572652544.0\n"
     ]
    },
    {
     "name": "stderr",
     "output_type": "stream",
     "text": [
      "Epoch 1/1:  66%|█████████████████████████████████████████████▊                       | 311/469 [03:09<01:35,  1.66it/s]"
     ]
    },
    {
     "name": "stdout",
     "output_type": "stream",
     "text": [
      "ErrD: -1.0697494285600686e+18, ErrG: 1.835941563755135e+18\n"
     ]
    },
    {
     "name": "stderr",
     "output_type": "stream",
     "text": [
      "Epoch 1/1:  68%|███████████████████████████████████████████████▏                     | 321/469 [03:15<01:28,  1.67it/s]"
     ]
    },
    {
     "name": "stdout",
     "output_type": "stream",
     "text": [
      "ErrD: -3858081075167232.0, ErrG: 4564249934299136.0\n"
     ]
    },
    {
     "name": "stderr",
     "output_type": "stream",
     "text": [
      "Epoch 1/1:  71%|████████████████████████████████████████████████▋                    | 331/469 [03:21<01:23,  1.66it/s]"
     ]
    },
    {
     "name": "stdout",
     "output_type": "stream",
     "text": [
      "ErrD: 278061719224320.0, ErrG: 86049820770304.0\n"
     ]
    },
    {
     "name": "stderr",
     "output_type": "stream",
     "text": [
      "Epoch 1/1:  73%|██████████████████████████████████████████████████▏                  | 341/469 [03:27<01:16,  1.67it/s]"
     ]
    },
    {
     "name": "stdout",
     "output_type": "stream",
     "text": [
      "ErrD: 423167759745024.0, ErrG: -1778450694144.0\n"
     ]
    },
    {
     "name": "stderr",
     "output_type": "stream",
     "text": [
      "Epoch 1/1:  75%|███████████████████████████████████████████████████▋                 | 351/469 [03:33<01:10,  1.67it/s]"
     ]
    },
    {
     "name": "stdout",
     "output_type": "stream",
     "text": [
      "ErrD: 396771696050176.0, ErrG: -4613128323072.0\n"
     ]
    },
    {
     "name": "stderr",
     "output_type": "stream",
     "text": [
      "Epoch 1/1:  77%|█████████████████████████████████████████████████████                | 361/469 [03:39<01:04,  1.66it/s]"
     ]
    },
    {
     "name": "stdout",
     "output_type": "stream",
     "text": [
      "ErrD: 391218605326336.0, ErrG: -6043766620160.0\n"
     ]
    },
    {
     "name": "stderr",
     "output_type": "stream",
     "text": [
      "Epoch 1/1:  79%|██████████████████████████████████████████████████████▌              | 371/469 [03:45<01:00,  1.62it/s]"
     ]
    },
    {
     "name": "stdout",
     "output_type": "stream",
     "text": [
      "ErrD: 256066872934400.0, ErrG: -7294791188480.0\n"
     ]
    },
    {
     "name": "stderr",
     "output_type": "stream",
     "text": [
      "Epoch 1/1:  81%|████████████████████████████████████████████████████████             | 381/469 [03:51<00:52,  1.68it/s]"
     ]
    },
    {
     "name": "stdout",
     "output_type": "stream",
     "text": [
      "ErrD: 229182525145088.0, ErrG: -7945079750656.0\n"
     ]
    },
    {
     "name": "stderr",
     "output_type": "stream",
     "text": [
      "Epoch 1/1:  83%|█████████████████████████████████████████████████████████▌           | 391/469 [03:57<00:46,  1.66it/s]"
     ]
    },
    {
     "name": "stdout",
     "output_type": "stream",
     "text": [
      "ErrD: 220620742721536.0, ErrG: -9214066950144.0\n"
     ]
    },
    {
     "name": "stderr",
     "output_type": "stream",
     "text": [
      "Epoch 1/1:  86%|██████████████████████████████████████████████████████████▉          | 401/469 [04:03<00:40,  1.67it/s]"
     ]
    },
    {
     "name": "stdout",
     "output_type": "stream",
     "text": [
      "ErrD: 149860804198400.0, ErrG: -8996259889152.0\n"
     ]
    },
    {
     "name": "stderr",
     "output_type": "stream",
     "text": [
      "Epoch 1/1:  88%|████████████████████████████████████████████████████████████▍        | 411/469 [04:09<00:34,  1.67it/s]"
     ]
    },
    {
     "name": "stdout",
     "output_type": "stream",
     "text": [
      "ErrD: 160566614163456.0, ErrG: -11552937738240.0\n"
     ]
    },
    {
     "name": "stderr",
     "output_type": "stream",
     "text": [
      "Epoch 1/1:  90%|█████████████████████████████████████████████████████████████▉       | 421/469 [04:15<00:28,  1.68it/s]"
     ]
    },
    {
     "name": "stdout",
     "output_type": "stream",
     "text": [
      "ErrD: 116431404400640.0, ErrG: -11411755368448.0\n"
     ]
    },
    {
     "name": "stderr",
     "output_type": "stream",
     "text": [
      "Epoch 1/1:  92%|███████████████████████████████████████████████████████████████▍     | 431/469 [04:21<00:22,  1.67it/s]"
     ]
    },
    {
     "name": "stdout",
     "output_type": "stream",
     "text": [
      "ErrD: 102812943908864.0, ErrG: -12343362715648.0\n"
     ]
    },
    {
     "name": "stderr",
     "output_type": "stream",
     "text": [
      "Epoch 1/1:  94%|████████████████████████████████████████████████████████████████▉    | 441/469 [04:27<00:17,  1.64it/s]"
     ]
    },
    {
     "name": "stdout",
     "output_type": "stream",
     "text": [
      "ErrD: 91925109538816.0, ErrG: -12756168212480.0\n"
     ]
    },
    {
     "name": "stderr",
     "output_type": "stream",
     "text": [
      "Epoch 1/1:  96%|██████████████████████████████████████████████████████████████████▎  | 451/469 [04:33<00:11,  1.63it/s]"
     ]
    },
    {
     "name": "stdout",
     "output_type": "stream",
     "text": [
      "ErrD: 59671616421888.0, ErrG: -13419539333120.0\n"
     ]
    },
    {
     "name": "stderr",
     "output_type": "stream",
     "text": [
      "Epoch 1/1:  98%|███████████████████████████████████████████████████████████████████▊ | 461/469 [04:39<00:04,  1.66it/s]"
     ]
    },
    {
     "name": "stdout",
     "output_type": "stream",
     "text": [
      "ErrD: 72171682529280.0, ErrG: -13739961090048.0\n"
     ]
    },
    {
     "name": "stderr",
     "output_type": "stream",
     "text": [
      "Epoch 1/1: 100%|█████████████████████████████████████████████████████████████████████| 469/469 [04:44<00:00,  1.65it/s]\n"
     ]
    },
    {
     "name": "stdout",
     "output_type": "stream",
     "text": [
      "ErrD: 75015311589376.0, ErrG: -14915551100928.0\n"
     ]
    },
    {
     "name": "stderr",
     "output_type": "stream",
     "text": [
      "Epoch 1/1:   0%|▏                                                                      | 1/469 [00:00<04:50,  1.61it/s]"
     ]
    },
    {
     "name": "stdout",
     "output_type": "stream",
     "text": [
      "ErrD: 39688811315200.0, ErrG: -15504639000576.0\n"
     ]
    },
    {
     "name": "stderr",
     "output_type": "stream",
     "text": [
      "Epoch 1/1:   2%|█▋                                                                    | 11/469 [00:06<04:42,  1.62it/s]"
     ]
    },
    {
     "name": "stdout",
     "output_type": "stream",
     "text": [
      "ErrD: 63802057949184.0, ErrG: -15836129525760.0\n"
     ]
    },
    {
     "name": "stderr",
     "output_type": "stream",
     "text": [
      "Epoch 1/1:   4%|███▏                                                                  | 21/469 [00:13<04:42,  1.58it/s]"
     ]
    },
    {
     "name": "stdout",
     "output_type": "stream",
     "text": [
      "ErrD: 47162134102016.0, ErrG: -16367833055232.0\n"
     ]
    },
    {
     "name": "stderr",
     "output_type": "stream",
     "text": [
      "Epoch 1/1:   7%|████▋                                                                 | 31/469 [00:19<04:58,  1.47it/s]"
     ]
    },
    {
     "name": "stdout",
     "output_type": "stream",
     "text": [
      "ErrD: 51902435819520.0, ErrG: -15691667210240.0\n"
     ]
    },
    {
     "name": "stderr",
     "output_type": "stream",
     "text": [
      "Epoch 1/1:   9%|██████                                                                | 41/469 [00:25<04:19,  1.65it/s]"
     ]
    },
    {
     "name": "stdout",
     "output_type": "stream",
     "text": [
      "ErrD: 50495888556032.0, ErrG: -14871667146752.0\n"
     ]
    },
    {
     "name": "stderr",
     "output_type": "stream",
     "text": [
      "Epoch 1/1:  11%|███████▌                                                              | 51/469 [00:31<04:18,  1.61it/s]"
     ]
    },
    {
     "name": "stdout",
     "output_type": "stream",
     "text": [
      "ErrD: 32984694521856.0, ErrG: -16956266643456.0\n"
     ]
    },
    {
     "name": "stderr",
     "output_type": "stream",
     "text": [
      "Epoch 1/1:  13%|█████████                                                             | 61/469 [00:37<04:14,  1.60it/s]"
     ]
    },
    {
     "name": "stdout",
     "output_type": "stream",
     "text": [
      "ErrD: 25815781736448.0, ErrG: -15767650172928.0\n"
     ]
    },
    {
     "name": "stderr",
     "output_type": "stream",
     "text": [
      "Epoch 1/1:  15%|██████████▌                                                           | 71/469 [00:44<04:07,  1.61it/s]"
     ]
    },
    {
     "name": "stdout",
     "output_type": "stream",
     "text": [
      "ErrD: 38008413749248.0, ErrG: -15501040287744.0\n"
     ]
    },
    {
     "name": "stderr",
     "output_type": "stream",
     "text": [
      "Epoch 1/1:  17%|████████████                                                          | 81/469 [00:50<03:59,  1.62it/s]"
     ]
    },
    {
     "name": "stdout",
     "output_type": "stream",
     "text": [
      "ErrD: 28230920699904.0, ErrG: -17040877289472.0\n"
     ]
    },
    {
     "name": "stderr",
     "output_type": "stream",
     "text": [
      "Epoch 1/1:  19%|█████████████▌                                                        | 91/469 [00:56<03:53,  1.62it/s]"
     ]
    },
    {
     "name": "stdout",
     "output_type": "stream",
     "text": [
      "ErrD: 29489266425856.0, ErrG: -17155121741824.0\n"
     ]
    },
    {
     "name": "stderr",
     "output_type": "stream",
     "text": [
      "Epoch 1/1:  22%|██████████████▊                                                      | 101/469 [01:02<03:46,  1.63it/s]"
     ]
    },
    {
     "name": "stdout",
     "output_type": "stream",
     "text": [
      "ErrD: 33468520071168.0, ErrG: -16698702823424.0\n"
     ]
    },
    {
     "name": "stderr",
     "output_type": "stream",
     "text": [
      "Epoch 1/1:  24%|████████████████▎                                                    | 111/469 [01:08<03:41,  1.61it/s]"
     ]
    },
    {
     "name": "stdout",
     "output_type": "stream",
     "text": [
      "ErrD: 24693683781632.0, ErrG: -16497021812736.0\n"
     ]
    },
    {
     "name": "stderr",
     "output_type": "stream",
     "text": [
      "Epoch 1/1:  26%|█████████████████▊                                                   | 121/469 [01:15<03:40,  1.58it/s]"
     ]
    },
    {
     "name": "stdout",
     "output_type": "stream",
     "text": [
      "ErrD: 34816844103680.0, ErrG: -17611018469376.0\n"
     ]
    },
    {
     "name": "stderr",
     "output_type": "stream",
     "text": [
      "Epoch 1/1:  28%|███████████████████▎                                                 | 131/469 [01:21<03:31,  1.60it/s]"
     ]
    },
    {
     "name": "stdout",
     "output_type": "stream",
     "text": [
      "ErrD: 22414880669696.0, ErrG: -15987013320704.0\n"
     ]
    },
    {
     "name": "stderr",
     "output_type": "stream",
     "text": [
      "Epoch 1/1:  30%|████████████████████▋                                                | 141/469 [01:27<03:23,  1.61it/s]"
     ]
    },
    {
     "name": "stdout",
     "output_type": "stream",
     "text": [
      "ErrD: 20570448068608.0, ErrG: -16913094672384.0\n"
     ]
    },
    {
     "name": "stderr",
     "output_type": "stream",
     "text": [
      "Epoch 1/1:  32%|██████████████████████▏                                              | 151/469 [01:33<03:16,  1.62it/s]"
     ]
    },
    {
     "name": "stdout",
     "output_type": "stream",
     "text": [
      "ErrD: 30073897877504.0, ErrG: -16378438352896.0\n"
     ]
    },
    {
     "name": "stderr",
     "output_type": "stream",
     "text": [
      "Epoch 1/1:  34%|███████████████████████▋                                             | 161/469 [01:40<03:12,  1.60it/s]"
     ]
    },
    {
     "name": "stdout",
     "output_type": "stream",
     "text": [
      "ErrD: 21087232458752.0, ErrG: -16513224409088.0\n"
     ]
    },
    {
     "name": "stderr",
     "output_type": "stream",
     "text": [
      "Epoch 1/1:  36%|█████████████████████████▏                                           | 171/469 [01:46<03:02,  1.63it/s]"
     ]
    },
    {
     "name": "stdout",
     "output_type": "stream",
     "text": [
      "ErrD: 18737342185472.0, ErrG: -18059144200192.0\n"
     ]
    },
    {
     "name": "stderr",
     "output_type": "stream",
     "text": [
      "Epoch 1/1:  39%|██████████████████████████▋                                          | 181/469 [01:52<02:57,  1.62it/s]"
     ]
    },
    {
     "name": "stdout",
     "output_type": "stream",
     "text": [
      "ErrD: 30318933311488.0, ErrG: -17243768356864.0\n"
     ]
    },
    {
     "name": "stderr",
     "output_type": "stream",
     "text": [
      "Epoch 1/1:  41%|████████████████████████████                                         | 191/469 [01:58<02:51,  1.62it/s]"
     ]
    },
    {
     "name": "stdout",
     "output_type": "stream",
     "text": [
      "ErrD: 17883157495808.0, ErrG: -17067164041216.0\n"
     ]
    },
    {
     "name": "stderr",
     "output_type": "stream",
     "text": [
      "Epoch 1/1:  43%|█████████████████████████████▌                                       | 201/469 [02:04<02:45,  1.62it/s]"
     ]
    },
    {
     "name": "stdout",
     "output_type": "stream",
     "text": [
      "ErrD: 17663640207360.0, ErrG: -16636394340352.0\n"
     ]
    },
    {
     "name": "stderr",
     "output_type": "stream",
     "text": [
      "Epoch 1/1:  45%|███████████████████████████████                                      | 211/469 [02:11<02:42,  1.59it/s]"
     ]
    },
    {
     "name": "stdout",
     "output_type": "stream",
     "text": [
      "ErrD: 25456843685888.0, ErrG: -16458846306304.0\n"
     ]
    },
    {
     "name": "stderr",
     "output_type": "stream",
     "text": [
      "Epoch 1/1:  47%|████████████████████████████████▌                                    | 221/469 [02:17<02:32,  1.63it/s]"
     ]
    },
    {
     "name": "stdout",
     "output_type": "stream",
     "text": [
      "ErrD: 23357242212352.0, ErrG: -17599719014400.0\n"
     ]
    },
    {
     "name": "stderr",
     "output_type": "stream",
     "text": [
      "Epoch 1/1:  49%|█████████████████████████████████▉                                   | 231/469 [02:23<02:28,  1.61it/s]"
     ]
    },
    {
     "name": "stdout",
     "output_type": "stream",
     "text": [
      "ErrD: 19095068082176.0, ErrG: -17771773558784.0\n"
     ]
    },
    {
     "name": "stderr",
     "output_type": "stream",
     "text": [
      "Epoch 1/1:  51%|███████████████████████████████████▍                                 | 241/469 [02:29<02:23,  1.59it/s]"
     ]
    },
    {
     "name": "stdout",
     "output_type": "stream",
     "text": [
      "ErrD: 14397522051072.0, ErrG: -15545648807936.0\n"
     ]
    },
    {
     "name": "stderr",
     "output_type": "stream",
     "text": [
      "Epoch 1/1:  54%|████████████████████████████████████▉                                | 251/469 [02:36<02:15,  1.60it/s]"
     ]
    },
    {
     "name": "stdout",
     "output_type": "stream",
     "text": [
      "ErrD: 17326189576192.0, ErrG: -17680111239168.0\n"
     ]
    },
    {
     "name": "stderr",
     "output_type": "stream",
     "text": [
      "Epoch 1/1:  56%|██████████████████████████████████████▍                              | 261/469 [02:42<02:08,  1.62it/s]"
     ]
    },
    {
     "name": "stdout",
     "output_type": "stream",
     "text": [
      "ErrD: 14930995576832.0, ErrG: -14340721737728.0\n"
     ]
    },
    {
     "name": "stderr",
     "output_type": "stream",
     "text": [
      "Epoch 1/1:  58%|███████████████████████████████████████▊                             | 271/469 [02:48<02:03,  1.60it/s]"
     ]
    },
    {
     "name": "stdout",
     "output_type": "stream",
     "text": [
      "ErrD: 25312167460864.0, ErrG: -16264797880320.0\n"
     ]
    },
    {
     "name": "stderr",
     "output_type": "stream",
     "text": [
      "Epoch 1/1:  60%|█████████████████████████████████████████▎                           | 281/469 [02:54<01:57,  1.60it/s]"
     ]
    },
    {
     "name": "stdout",
     "output_type": "stream",
     "text": [
      "ErrD: 18556926296064.0, ErrG: -14907093286912.0\n"
     ]
    },
    {
     "name": "stderr",
     "output_type": "stream",
     "text": [
      "Epoch 1/1:  62%|██████████████████████████████████████████▊                          | 291/469 [03:00<01:49,  1.63it/s]"
     ]
    },
    {
     "name": "stdout",
     "output_type": "stream",
     "text": [
      "ErrD: 15538885492736.0, ErrG: -14009015205888.0\n"
     ]
    },
    {
     "name": "stderr",
     "output_type": "stream",
     "text": [
      "Epoch 1/1:  64%|████████████████████████████████████████████▎                        | 301/469 [03:06<01:42,  1.64it/s]"
     ]
    },
    {
     "name": "stdout",
     "output_type": "stream",
     "text": [
      "ErrD: 21120325517312.0, ErrG: -15895466344448.0\n"
     ]
    },
    {
     "name": "stderr",
     "output_type": "stream",
     "text": [
      "Epoch 1/1:  66%|█████████████████████████████████████████████▊                       | 311/469 [03:13<01:36,  1.63it/s]"
     ]
    },
    {
     "name": "stdout",
     "output_type": "stream",
     "text": [
      "ErrD: 18668861784064.0, ErrG: -16095821955072.0\n"
     ]
    },
    {
     "name": "stderr",
     "output_type": "stream",
     "text": [
      "Epoch 1/1:  68%|███████████████████████████████████████████████▏                     | 321/469 [03:19<01:32,  1.60it/s]"
     ]
    },
    {
     "name": "stdout",
     "output_type": "stream",
     "text": [
      "ErrD: 18391251288064.0, ErrG: -14976368508928.0\n"
     ]
    },
    {
     "name": "stderr",
     "output_type": "stream",
     "text": [
      "Epoch 1/1:  71%|████████████████████████████████████████████████▋                    | 331/469 [03:25<01:25,  1.62it/s]"
     ]
    },
    {
     "name": "stdout",
     "output_type": "stream",
     "text": [
      "ErrD: 15073087062016.0, ErrG: -14199649468416.0\n"
     ]
    },
    {
     "name": "stderr",
     "output_type": "stream",
     "text": [
      "Epoch 1/1:  73%|██████████████████████████████████████████████████▏                  | 341/469 [03:31<01:18,  1.63it/s]"
     ]
    },
    {
     "name": "stdout",
     "output_type": "stream",
     "text": [
      "ErrD: 13269092794368.0, ErrG: -16063084363776.0\n"
     ]
    },
    {
     "name": "stderr",
     "output_type": "stream",
     "text": [
      "Epoch 1/1:  75%|███████████████████████████████████████████████████▋                 | 351/469 [03:37<01:12,  1.63it/s]"
     ]
    },
    {
     "name": "stdout",
     "output_type": "stream",
     "text": [
      "ErrD: 12440951586816.0, ErrG: -14749834149888.0\n"
     ]
    },
    {
     "name": "stderr",
     "output_type": "stream",
     "text": [
      "Epoch 1/1:  77%|█████████████████████████████████████████████████████                | 361/469 [03:43<01:06,  1.63it/s]"
     ]
    },
    {
     "name": "stdout",
     "output_type": "stream",
     "text": [
      "ErrD: 17489215881216.0, ErrG: -14450844237824.0\n"
     ]
    },
    {
     "name": "stderr",
     "output_type": "stream",
     "text": [
      "Epoch 1/1:  79%|██████████████████████████████████████████████████████▌              | 371/469 [03:49<01:00,  1.62it/s]"
     ]
    },
    {
     "name": "stdout",
     "output_type": "stream",
     "text": [
      "ErrD: 14884402102272.0, ErrG: -15709064134656.0\n"
     ]
    },
    {
     "name": "stderr",
     "output_type": "stream",
     "text": [
      "Epoch 1/1:  81%|████████████████████████████████████████████████████████             | 381/469 [03:56<00:53,  1.64it/s]"
     ]
    },
    {
     "name": "stdout",
     "output_type": "stream",
     "text": [
      "ErrD: 15099202895872.0, ErrG: -13679465594880.0\n"
     ]
    },
    {
     "name": "stderr",
     "output_type": "stream",
     "text": [
      "Epoch 1/1:  83%|█████████████████████████████████████████████████████████▌           | 391/469 [04:02<00:47,  1.64it/s]"
     ]
    },
    {
     "name": "stdout",
     "output_type": "stream",
     "text": [
      "ErrD: 14540803670016.0, ErrG: -14743822663680.0\n"
     ]
    },
    {
     "name": "stderr",
     "output_type": "stream",
     "text": [
      "Epoch 1/1:  86%|██████████████████████████████████████████████████████████▉          | 401/469 [04:08<00:41,  1.63it/s]"
     ]
    },
    {
     "name": "stdout",
     "output_type": "stream",
     "text": [
      "ErrD: 10442088906752.0, ErrG: -12593815093248.0\n"
     ]
    },
    {
     "name": "stderr",
     "output_type": "stream",
     "text": [
      "Epoch 1/1:  88%|████████████████████████████████████████████████████████████▍        | 411/469 [04:14<00:36,  1.60it/s]"
     ]
    },
    {
     "name": "stdout",
     "output_type": "stream",
     "text": [
      "ErrD: 14043739848704.0, ErrG: -13620452786176.0\n"
     ]
    },
    {
     "name": "stderr",
     "output_type": "stream",
     "text": [
      "Epoch 1/1:  90%|█████████████████████████████████████████████████████████████▉       | 421/469 [04:20<00:30,  1.58it/s]"
     ]
    },
    {
     "name": "stdout",
     "output_type": "stream",
     "text": [
      "ErrD: 10226625413120.0, ErrG: -12492042403840.0\n"
     ]
    },
    {
     "name": "stderr",
     "output_type": "stream",
     "text": [
      "Epoch 1/1:  92%|███████████████████████████████████████████████████████████████▍     | 431/469 [04:27<00:23,  1.61it/s]"
     ]
    },
    {
     "name": "stdout",
     "output_type": "stream",
     "text": [
      "ErrD: 10568588066816.0, ErrG: -12163534028800.0\n"
     ]
    },
    {
     "name": "stderr",
     "output_type": "stream",
     "text": [
      "Epoch 1/1:  94%|████████████████████████████████████████████████████████████████▉    | 441/469 [04:33<00:17,  1.58it/s]"
     ]
    },
    {
     "name": "stdout",
     "output_type": "stream",
     "text": [
      "ErrD: 10621921787904.0, ErrG: -11883578916864.0\n"
     ]
    },
    {
     "name": "stderr",
     "output_type": "stream",
     "text": [
      "Epoch 1/1:  96%|██████████████████████████████████████████████████████████████████▎  | 451/469 [04:39<00:11,  1.58it/s]"
     ]
    },
    {
     "name": "stdout",
     "output_type": "stream",
     "text": [
      "ErrD: 9102213251072.0, ErrG: -12317295116288.0\n"
     ]
    },
    {
     "name": "stderr",
     "output_type": "stream",
     "text": [
      "Epoch 1/1:  98%|███████████████████████████████████████████████████████████████████▊ | 461/469 [04:46<00:04,  1.61it/s]"
     ]
    },
    {
     "name": "stdout",
     "output_type": "stream",
     "text": [
      "ErrD: 9761637531648.0, ErrG: -11451917926400.0\n"
     ]
    },
    {
     "name": "stderr",
     "output_type": "stream",
     "text": [
      "Epoch 1/1: 100%|█████████████████████████████████████████████████████████████████████| 469/469 [04:51<00:00,  1.61it/s]"
     ]
    },
    {
     "name": "stdout",
     "output_type": "stream",
     "text": [
      "ErrD: 10286522171392.0, ErrG: -11276688293888.0\n"
     ]
    },
    {
     "name": "stderr",
     "output_type": "stream",
     "text": [
      "\n"
     ]
    }
   ],
   "source": [
    "image_size = 32\n",
    "path = \"datasets/celeba_hq\"\n",
    "transform = transforms.Compose([\n",
    "                transforms.Resize(image_size),\n",
    "                transforms.CenterCrop(image_size),\n",
    "                transforms.ToTensor(),\n",
    "                transforms.Normalize((0.5, 0.5, 0.5), (0.5, 0.5, 0.5)),\n",
    "            ])\n",
    "g_lr = 0.001\n",
    "d_lr = 0.001\n",
    "num_epochs = 1\n",
    "batch_size = 64\n",
    "device = torch.device(\"cuda:0\" if torch.cuda.is_available() else \"cpu\")\n",
    "torch.autograd.set_detect_anomaly(True)\n",
    "gan = ProGAN(256, image_size, device)\n",
    "G_losses, D_losses = gan.train(path, transform, g_lr, d_lr, num_epochs, batch_size, image_size, device)"
   ]
  },
  {
   "cell_type": "code",
   "execution_count": 86,
   "id": "1a4d3ed7",
   "metadata": {},
   "outputs": [
    {
     "data": {
      "image/png": "[encoded data removed]",
      "text/plain": [
       "<Figure size 640x480 with 1 Axes>"
      ]
     },
     "metadata": {},
     "output_type": "display_data"
    }
   ],
   "source": [
    "import torchvision.utils as vutils\n",
    "def plot_image(image):\n",
    "    '''\n",
    "    Takes in an image and shows it using matplotlib \n",
    "    this is used to visualize the data and also the outputs of our network\n",
    "    '''\n",
    "    plt.figure()\n",
    "    plt.imshow(vutils.make_grid(image.cpu(), padding=2, normalize=True).permute(1, 2, 0))\n",
    "    plt.grid('off')\n",
    "    plt.axis('off')\n",
    "    plt.show()\n",
    "\n",
    "plot_image(gan(torch.randn(1, 256, 1, 1, device=device)))"
   ]
  },
  {
   "cell_type": "code",
   "execution_count": 77,
   "id": "0157069c",
   "metadata": {},
   "outputs": [
    {
     "data": {
      "image/png": "[encoded data removed]",
      "text/plain": [
       "<Figure size 1000x500 with 1 Axes>"
      ]
     },
     "metadata": {},
     "output_type": "display_data"
    }
   ],
   "source": [
    "plt.figure(figsize=(10,5))\n",
    "plt.title(\"Generator and Discriminator Loss During Training\")\n",
    "plt.plot(G_losses,label=\"G\")\n",
    "plt.plot(D_losses,label=\"D\")\n",
    "plt.xlabel(\"iterations\")\n",
    "plt.ylabel(\"Loss\")\n",
    "plt.legend()\n",
    "plt.show()"
   ]
  },
  {
   "cell_type": "code",
   "execution_count": null,
   "id": "58edbb51",
   "metadata": {},
   "outputs": [],
   "source": []
  },
  {
   "cell_type": "code",
   "execution_count": null,
   "id": "5e0f7bd9",
   "metadata": {},
   "outputs": [],
   "source": []
  }
 ],
 "metadata": {
  "kernelspec": {
   "display_name": "Netor4",
   "language": "python",
   "name": "netor4"
  },
  "language_info": {
   "codemirror_mode": {
    "name": "ipython",
    "version": 3
   },
   "file_extension": ".py",
   "mimetype": "text/x-python",
   "name": "python",
   "nbconvert_exporter": "python",
   "pygments_lexer": "ipython3",
   "version": "3.9.16"
  }
 },
 "nbformat": 4,
 "nbformat_minor": 5
}
